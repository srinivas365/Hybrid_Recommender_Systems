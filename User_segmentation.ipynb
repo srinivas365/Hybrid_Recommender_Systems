{
 "cells": [
  {
   "cell_type": "markdown",
   "metadata": {},
   "source": [
    "# User Segmentation using Clustering Techniques\n",
    "\n",
    "Customer Segmentation is one the most important applications of unsupervised learning. Using clustering techniques, one can identify the several segments of customers allowing them to target the potential user base.\n",
    "\n",
    "\n",
    "This notebook has the following sections\n",
    "\n",
    "1. Importing Necessary Libraries\n",
    "2. Loading the data\n",
    "3. Exploratory Data Analysis\n",
    "4. Applying clustering Techniques\n",
    "5. Finding the optimal Clusters\n",
    "6. Applying PCA\n",
    "7. Find the optimal clusters \n",
    "8. Visualization of clusters\n"
   ]
  },
  {
   "cell_type": "markdown",
   "metadata": {},
   "source": [
    "#### 1. Importing the libraries"
   ]
  },
  {
   "cell_type": "code",
   "execution_count": 1,
   "metadata": {},
   "outputs": [],
   "source": [
    "import numpy as np\n",
    "import pandas as pd\n",
    "\n",
    "# for standardizing the dataset\n",
    "from sklearn.preprocessing import StandardScaler\n",
    "\n",
    "# for visualization\n",
    "import matplotlib.pyplot as plt\n",
    "import seaborn as sns\n",
    "sns.set()\n",
    "\n",
    "# for the clustering techniques\n",
    "from scipy.cluster.hierarchy import dendrogram,linkage\n",
    "from sklearn.cluster import KMeans"
   ]
  },
  {
   "cell_type": "markdown",
   "metadata": {},
   "source": [
    "#### Loading the dataset"
   ]
  },
  {
   "cell_type": "code",
   "execution_count": 57,
   "metadata": {},
   "outputs": [],
   "source": [
    "df_users=pd.read_csv('user_side_data_raw.tsv',sep='\\t',names=['id','gender','age','country','date'])"
   ]
  },
  {
   "cell_type": "code",
   "execution_count": 58,
   "metadata": {},
   "outputs": [
    {
     "data": {
      "text/html": [
       "<div>\n",
       "<style scoped>\n",
       "    .dataframe tbody tr th:only-of-type {\n",
       "        vertical-align: middle;\n",
       "    }\n",
       "\n",
       "    .dataframe tbody tr th {\n",
       "        vertical-align: top;\n",
       "    }\n",
       "\n",
       "    .dataframe thead th {\n",
       "        text-align: right;\n",
       "    }\n",
       "</style>\n",
       "<table border=\"1\" class=\"dataframe\">\n",
       "  <thead>\n",
       "    <tr style=\"text-align: right;\">\n",
       "      <th></th>\n",
       "      <th>id</th>\n",
       "      <th>gender</th>\n",
       "      <th>age</th>\n",
       "      <th>country</th>\n",
       "      <th>date</th>\n",
       "    </tr>\n",
       "  </thead>\n",
       "  <tbody>\n",
       "    <tr>\n",
       "      <th>0</th>\n",
       "      <td>00000c289a1829a808ac09c00daf10bc3c4e223b</td>\n",
       "      <td>f</td>\n",
       "      <td>22.0</td>\n",
       "      <td>Germany</td>\n",
       "      <td>Feb 1, 2007</td>\n",
       "    </tr>\n",
       "    <tr>\n",
       "      <th>1</th>\n",
       "      <td>00001411dc427966b17297bf4d69e7e193135d89</td>\n",
       "      <td>f</td>\n",
       "      <td>NaN</td>\n",
       "      <td>Canada</td>\n",
       "      <td>Dec 4, 2007</td>\n",
       "    </tr>\n",
       "    <tr>\n",
       "      <th>2</th>\n",
       "      <td>00004d2ac9316e22dc007ab2243d6fcb239e707d</td>\n",
       "      <td>NaN</td>\n",
       "      <td>NaN</td>\n",
       "      <td>Germany</td>\n",
       "      <td>Sep 1, 2006</td>\n",
       "    </tr>\n",
       "    <tr>\n",
       "      <th>3</th>\n",
       "      <td>000063d3fe1cf2ba248b9e3c3f0334845a27a6bf</td>\n",
       "      <td>m</td>\n",
       "      <td>19.0</td>\n",
       "      <td>Mexico</td>\n",
       "      <td>Apr 28, 2008</td>\n",
       "    </tr>\n",
       "    <tr>\n",
       "      <th>4</th>\n",
       "      <td>00007a47085b9aab8af55f52ec8846ac479ac4fe</td>\n",
       "      <td>m</td>\n",
       "      <td>28.0</td>\n",
       "      <td>United States</td>\n",
       "      <td>Jan 27, 2006</td>\n",
       "    </tr>\n",
       "  </tbody>\n",
       "</table>\n",
       "</div>"
      ],
      "text/plain": [
       "                                         id gender   age        country  \\\n",
       "0  00000c289a1829a808ac09c00daf10bc3c4e223b      f  22.0        Germany   \n",
       "1  00001411dc427966b17297bf4d69e7e193135d89      f   NaN         Canada   \n",
       "2  00004d2ac9316e22dc007ab2243d6fcb239e707d    NaN   NaN        Germany   \n",
       "3  000063d3fe1cf2ba248b9e3c3f0334845a27a6bf      m  19.0         Mexico   \n",
       "4  00007a47085b9aab8af55f52ec8846ac479ac4fe      m  28.0  United States   \n",
       "\n",
       "           date  \n",
       "0   Feb 1, 2007  \n",
       "1   Dec 4, 2007  \n",
       "2   Sep 1, 2006  \n",
       "3  Apr 28, 2008  \n",
       "4  Jan 27, 2006  "
      ]
     },
     "execution_count": 58,
     "metadata": {},
     "output_type": "execute_result"
    }
   ],
   "source": [
    "df_users.head()"
   ]
  },
  {
   "cell_type": "code",
   "execution_count": 59,
   "metadata": {},
   "outputs": [
    {
     "data": {
      "text/plain": [
       "(359347, 5)"
      ]
     },
     "execution_count": 59,
     "metadata": {},
     "output_type": "execute_result"
    }
   ],
   "source": [
    "df_users.shape"
   ]
  },
  {
   "cell_type": "code",
   "execution_count": 60,
   "metadata": {},
   "outputs": [
    {
     "data": {
      "text/plain": [
       "id             0\n",
       "gender     32775\n",
       "age        74900\n",
       "country        0\n",
       "date           0\n",
       "dtype: int64"
      ]
     },
     "execution_count": 60,
     "metadata": {},
     "output_type": "execute_result"
    }
   ],
   "source": [
    "df_users.isnull().sum()"
   ]
  },
  {
   "cell_type": "code",
   "execution_count": 61,
   "metadata": {},
   "outputs": [
    {
     "data": {
      "text/plain": [
       "9.12071062232327"
      ]
     },
     "execution_count": 61,
     "metadata": {},
     "output_type": "execute_result"
    }
   ],
   "source": [
    "# proportions of null values\n",
    "(df_users.gender.isnull().sum()/df_users.shape[0])*100"
   ]
  },
  {
   "cell_type": "code",
   "execution_count": 62,
   "metadata": {},
   "outputs": [
    {
     "data": {
      "text/plain": [
       "20.84336310029025"
      ]
     },
     "execution_count": 62,
     "metadata": {},
     "output_type": "execute_result"
    }
   ],
   "source": [
    "(df_users.age.isnull().sum()/df_users.shape[0])*100"
   ]
  },
  {
   "cell_type": "code",
   "execution_count": 63,
   "metadata": {},
   "outputs": [],
   "source": [
    "df_users.gender.fillna(df_users.gender.mode()[0],inplace=True)"
   ]
  },
  {
   "cell_type": "code",
   "execution_count": 64,
   "metadata": {},
   "outputs": [],
   "source": [
    "df_users.age.fillna(int(df_users.age.mean()),inplace=True)"
   ]
  },
  {
   "cell_type": "code",
   "execution_count": 65,
   "metadata": {},
   "outputs": [
    {
     "data": {
      "text/plain": [
       "id         0\n",
       "gender     0\n",
       "age        0\n",
       "country    0\n",
       "date       0\n",
       "dtype: int64"
      ]
     },
     "execution_count": 65,
     "metadata": {},
     "output_type": "execute_result"
    }
   ],
   "source": [
    "df_users.isnull().sum()"
   ]
  },
  {
   "cell_type": "markdown",
   "metadata": {},
   "source": [
    "# Exploratory data analysis"
   ]
  },
  {
   "cell_type": "code",
   "execution_count": 66,
   "metadata": {},
   "outputs": [
    {
     "data": {
      "text/plain": [
       "m    274417\n",
       "f     84930\n",
       "Name: gender, dtype: int64"
      ]
     },
     "execution_count": 66,
     "metadata": {},
     "output_type": "execute_result"
    }
   ],
   "source": [
    "df_users.gender.value_counts()"
   ]
  },
  {
   "cell_type": "code",
   "execution_count": 67,
   "metadata": {},
   "outputs": [
    {
     "data": {
      "text/plain": [
       "25.07761022076155"
      ]
     },
     "execution_count": 67,
     "metadata": {},
     "output_type": "execute_result"
    }
   ],
   "source": [
    "df_users.age.mean()"
   ]
  },
  {
   "cell_type": "code",
   "execution_count": 68,
   "metadata": {},
   "outputs": [
    {
     "data": {
      "text/plain": [
       "United States               67044\n",
       "Germany                     31651\n",
       "United Kingdom              29902\n",
       "Poland                      20987\n",
       "Russian Federation          19833\n",
       "Brazil                      14534\n",
       "Sweden                      13122\n",
       "Spain                       13051\n",
       "Finland                     11579\n",
       "Netherlands                  9650\n",
       "Canada                       8679\n",
       "France                       7529\n",
       "Italy                        7525\n",
       "Australia                    7135\n",
       "Japan                        6637\n",
       "Turkey                       6452\n",
       "Norway                       5155\n",
       "Mexico                       4834\n",
       "Czech Republic               4774\n",
       "Ukraine                      4396\n",
       "Belgium                      3803\n",
       "Portugal                     3196\n",
       "Switzerland                  3053\n",
       "Bulgaria                     2800\n",
       "Austria                      2796\n",
       "Chile                        2794\n",
       "Argentina                    2640\n",
       "Romania                      2636\n",
       "Denmark                      2508\n",
       "Hungary                      1985\n",
       "                            ...  \n",
       "Equatorial Guinea              10\n",
       "Saint Kitts and Nevis          10\n",
       "San Marino                      9\n",
       "Cameroon                        9\n",
       "Namibia                         9\n",
       "Senegal                         9\n",
       "Saint Lucia                     8\n",
       "Rwanda                          8\n",
       "Gabon                           8\n",
       "Comoros                         8\n",
       "Mayotte                         8\n",
       "Tonga                           8\n",
       "Grenada                         7\n",
       "Myanmar                         7\n",
       "Mali                            7\n",
       "Malawi                          6\n",
       "Belize                          6\n",
       "Eritrea                         6\n",
       "Guinea-Bissau                   5\n",
       "Central African Republic        5\n",
       "Sudan                           5\n",
       "Guyana                          5\n",
       "Suriname                        5\n",
       "Mauritania                      5\n",
       "Marshall Islands                4\n",
       "French Guiana                   4\n",
       "Palau                           3\n",
       "Benin                           3\n",
       "Liberia                         3\n",
       "Gambia                          3\n",
       "Name: country, Length: 239, dtype: int64"
      ]
     },
     "execution_count": 68,
     "metadata": {},
     "output_type": "execute_result"
    }
   ],
   "source": [
    "df_users.country.value_counts()"
   ]
  },
  {
   "cell_type": "code",
   "execution_count": 69,
   "metadata": {},
   "outputs": [],
   "source": [
    "df_users['joined year']=df_users.date.apply(lambda x:x[-4:])"
   ]
  },
  {
   "cell_type": "code",
   "execution_count": 70,
   "metadata": {},
   "outputs": [
    {
     "data": {
      "text/html": [
       "<div>\n",
       "<style scoped>\n",
       "    .dataframe tbody tr th:only-of-type {\n",
       "        vertical-align: middle;\n",
       "    }\n",
       "\n",
       "    .dataframe tbody tr th {\n",
       "        vertical-align: top;\n",
       "    }\n",
       "\n",
       "    .dataframe thead th {\n",
       "        text-align: right;\n",
       "    }\n",
       "</style>\n",
       "<table border=\"1\" class=\"dataframe\">\n",
       "  <thead>\n",
       "    <tr style=\"text-align: right;\">\n",
       "      <th></th>\n",
       "      <th>id</th>\n",
       "      <th>gender</th>\n",
       "      <th>age</th>\n",
       "      <th>country</th>\n",
       "      <th>date</th>\n",
       "      <th>joined year</th>\n",
       "    </tr>\n",
       "  </thead>\n",
       "  <tbody>\n",
       "    <tr>\n",
       "      <th>0</th>\n",
       "      <td>00000c289a1829a808ac09c00daf10bc3c4e223b</td>\n",
       "      <td>f</td>\n",
       "      <td>22.0</td>\n",
       "      <td>Germany</td>\n",
       "      <td>Feb 1, 2007</td>\n",
       "      <td>2007</td>\n",
       "    </tr>\n",
       "    <tr>\n",
       "      <th>1</th>\n",
       "      <td>00001411dc427966b17297bf4d69e7e193135d89</td>\n",
       "      <td>f</td>\n",
       "      <td>25.0</td>\n",
       "      <td>Canada</td>\n",
       "      <td>Dec 4, 2007</td>\n",
       "      <td>2007</td>\n",
       "    </tr>\n",
       "    <tr>\n",
       "      <th>2</th>\n",
       "      <td>00004d2ac9316e22dc007ab2243d6fcb239e707d</td>\n",
       "      <td>m</td>\n",
       "      <td>25.0</td>\n",
       "      <td>Germany</td>\n",
       "      <td>Sep 1, 2006</td>\n",
       "      <td>2006</td>\n",
       "    </tr>\n",
       "    <tr>\n",
       "      <th>3</th>\n",
       "      <td>000063d3fe1cf2ba248b9e3c3f0334845a27a6bf</td>\n",
       "      <td>m</td>\n",
       "      <td>19.0</td>\n",
       "      <td>Mexico</td>\n",
       "      <td>Apr 28, 2008</td>\n",
       "      <td>2008</td>\n",
       "    </tr>\n",
       "    <tr>\n",
       "      <th>4</th>\n",
       "      <td>00007a47085b9aab8af55f52ec8846ac479ac4fe</td>\n",
       "      <td>m</td>\n",
       "      <td>28.0</td>\n",
       "      <td>United States</td>\n",
       "      <td>Jan 27, 2006</td>\n",
       "      <td>2006</td>\n",
       "    </tr>\n",
       "  </tbody>\n",
       "</table>\n",
       "</div>"
      ],
      "text/plain": [
       "                                         id gender   age        country  \\\n",
       "0  00000c289a1829a808ac09c00daf10bc3c4e223b      f  22.0        Germany   \n",
       "1  00001411dc427966b17297bf4d69e7e193135d89      f  25.0         Canada   \n",
       "2  00004d2ac9316e22dc007ab2243d6fcb239e707d      m  25.0        Germany   \n",
       "3  000063d3fe1cf2ba248b9e3c3f0334845a27a6bf      m  19.0         Mexico   \n",
       "4  00007a47085b9aab8af55f52ec8846ac479ac4fe      m  28.0  United States   \n",
       "\n",
       "           date joined year  \n",
       "0   Feb 1, 2007        2007  \n",
       "1   Dec 4, 2007        2007  \n",
       "2   Sep 1, 2006        2006  \n",
       "3  Apr 28, 2008        2008  \n",
       "4  Jan 27, 2006        2006  "
      ]
     },
     "execution_count": 70,
     "metadata": {},
     "output_type": "execute_result"
    }
   ],
   "source": [
    "df_users.head()"
   ]
  },
  {
   "cell_type": "code",
   "execution_count": 71,
   "metadata": {},
   "outputs": [],
   "source": [
    "df_users.drop(['date'],axis=1,inplace=True)"
   ]
  },
  {
   "cell_type": "code",
   "execution_count": 72,
   "metadata": {},
   "outputs": [],
   "source": [
    "df_users.set_index(['id'],inplace=True)"
   ]
  },
  {
   "cell_type": "code",
   "execution_count": 73,
   "metadata": {},
   "outputs": [
    {
     "data": {
      "text/html": [
       "<div>\n",
       "<style scoped>\n",
       "    .dataframe tbody tr th:only-of-type {\n",
       "        vertical-align: middle;\n",
       "    }\n",
       "\n",
       "    .dataframe tbody tr th {\n",
       "        vertical-align: top;\n",
       "    }\n",
       "\n",
       "    .dataframe thead th {\n",
       "        text-align: right;\n",
       "    }\n",
       "</style>\n",
       "<table border=\"1\" class=\"dataframe\">\n",
       "  <thead>\n",
       "    <tr style=\"text-align: right;\">\n",
       "      <th></th>\n",
       "      <th>gender</th>\n",
       "      <th>age</th>\n",
       "      <th>country</th>\n",
       "      <th>joined year</th>\n",
       "    </tr>\n",
       "    <tr>\n",
       "      <th>id</th>\n",
       "      <th></th>\n",
       "      <th></th>\n",
       "      <th></th>\n",
       "      <th></th>\n",
       "    </tr>\n",
       "  </thead>\n",
       "  <tbody>\n",
       "    <tr>\n",
       "      <th>00000c289a1829a808ac09c00daf10bc3c4e223b</th>\n",
       "      <td>f</td>\n",
       "      <td>22.0</td>\n",
       "      <td>Germany</td>\n",
       "      <td>2007</td>\n",
       "    </tr>\n",
       "    <tr>\n",
       "      <th>00001411dc427966b17297bf4d69e7e193135d89</th>\n",
       "      <td>f</td>\n",
       "      <td>25.0</td>\n",
       "      <td>Canada</td>\n",
       "      <td>2007</td>\n",
       "    </tr>\n",
       "    <tr>\n",
       "      <th>00004d2ac9316e22dc007ab2243d6fcb239e707d</th>\n",
       "      <td>m</td>\n",
       "      <td>25.0</td>\n",
       "      <td>Germany</td>\n",
       "      <td>2006</td>\n",
       "    </tr>\n",
       "    <tr>\n",
       "      <th>000063d3fe1cf2ba248b9e3c3f0334845a27a6bf</th>\n",
       "      <td>m</td>\n",
       "      <td>19.0</td>\n",
       "      <td>Mexico</td>\n",
       "      <td>2008</td>\n",
       "    </tr>\n",
       "    <tr>\n",
       "      <th>00007a47085b9aab8af55f52ec8846ac479ac4fe</th>\n",
       "      <td>m</td>\n",
       "      <td>28.0</td>\n",
       "      <td>United States</td>\n",
       "      <td>2006</td>\n",
       "    </tr>\n",
       "  </tbody>\n",
       "</table>\n",
       "</div>"
      ],
      "text/plain": [
       "                                         gender   age        country  \\\n",
       "id                                                                     \n",
       "00000c289a1829a808ac09c00daf10bc3c4e223b      f  22.0        Germany   \n",
       "00001411dc427966b17297bf4d69e7e193135d89      f  25.0         Canada   \n",
       "00004d2ac9316e22dc007ab2243d6fcb239e707d      m  25.0        Germany   \n",
       "000063d3fe1cf2ba248b9e3c3f0334845a27a6bf      m  19.0         Mexico   \n",
       "00007a47085b9aab8af55f52ec8846ac479ac4fe      m  28.0  United States   \n",
       "\n",
       "                                         joined year  \n",
       "id                                                    \n",
       "00000c289a1829a808ac09c00daf10bc3c4e223b        2007  \n",
       "00001411dc427966b17297bf4d69e7e193135d89        2007  \n",
       "00004d2ac9316e22dc007ab2243d6fcb239e707d        2006  \n",
       "000063d3fe1cf2ba248b9e3c3f0334845a27a6bf        2008  \n",
       "00007a47085b9aab8af55f52ec8846ac479ac4fe        2006  "
      ]
     },
     "execution_count": 73,
     "metadata": {},
     "output_type": "execute_result"
    }
   ],
   "source": [
    "df_users.head()"
   ]
  },
  {
   "cell_type": "code",
   "execution_count": 74,
   "metadata": {},
   "outputs": [],
   "source": [
    "df_seg=pd.get_dummies(df_users,['gender','country','joined year'])"
   ]
  },
  {
   "cell_type": "code",
   "execution_count": 75,
   "metadata": {},
   "outputs": [
    {
     "data": {
      "text/html": [
       "<div>\n",
       "<style scoped>\n",
       "    .dataframe tbody tr th:only-of-type {\n",
       "        vertical-align: middle;\n",
       "    }\n",
       "\n",
       "    .dataframe tbody tr th {\n",
       "        vertical-align: top;\n",
       "    }\n",
       "\n",
       "    .dataframe thead th {\n",
       "        text-align: right;\n",
       "    }\n",
       "</style>\n",
       "<table border=\"1\" class=\"dataframe\">\n",
       "  <thead>\n",
       "    <tr style=\"text-align: right;\">\n",
       "      <th></th>\n",
       "      <th>age</th>\n",
       "      <th>gender_f</th>\n",
       "      <th>gender_m</th>\n",
       "      <th>country_Afghanistan</th>\n",
       "      <th>country_Albania</th>\n",
       "      <th>country_Algeria</th>\n",
       "      <th>country_American Samoa</th>\n",
       "      <th>country_Andorra</th>\n",
       "      <th>country_Angola</th>\n",
       "      <th>country_Anguilla</th>\n",
       "      <th>...</th>\n",
       "      <th>country_Zambia</th>\n",
       "      <th>country_Zimbabwe</th>\n",
       "      <th>joined year_2002</th>\n",
       "      <th>joined year_2003</th>\n",
       "      <th>joined year_2004</th>\n",
       "      <th>joined year_2005</th>\n",
       "      <th>joined year_2006</th>\n",
       "      <th>joined year_2007</th>\n",
       "      <th>joined year_2008</th>\n",
       "      <th>joined year_2009</th>\n",
       "    </tr>\n",
       "    <tr>\n",
       "      <th>id</th>\n",
       "      <th></th>\n",
       "      <th></th>\n",
       "      <th></th>\n",
       "      <th></th>\n",
       "      <th></th>\n",
       "      <th></th>\n",
       "      <th></th>\n",
       "      <th></th>\n",
       "      <th></th>\n",
       "      <th></th>\n",
       "      <th></th>\n",
       "      <th></th>\n",
       "      <th></th>\n",
       "      <th></th>\n",
       "      <th></th>\n",
       "      <th></th>\n",
       "      <th></th>\n",
       "      <th></th>\n",
       "      <th></th>\n",
       "      <th></th>\n",
       "      <th></th>\n",
       "    </tr>\n",
       "  </thead>\n",
       "  <tbody>\n",
       "    <tr>\n",
       "      <th>00000c289a1829a808ac09c00daf10bc3c4e223b</th>\n",
       "      <td>22.0</td>\n",
       "      <td>1</td>\n",
       "      <td>0</td>\n",
       "      <td>0</td>\n",
       "      <td>0</td>\n",
       "      <td>0</td>\n",
       "      <td>0</td>\n",
       "      <td>0</td>\n",
       "      <td>0</td>\n",
       "      <td>0</td>\n",
       "      <td>...</td>\n",
       "      <td>0</td>\n",
       "      <td>0</td>\n",
       "      <td>0</td>\n",
       "      <td>0</td>\n",
       "      <td>0</td>\n",
       "      <td>0</td>\n",
       "      <td>0</td>\n",
       "      <td>1</td>\n",
       "      <td>0</td>\n",
       "      <td>0</td>\n",
       "    </tr>\n",
       "    <tr>\n",
       "      <th>00001411dc427966b17297bf4d69e7e193135d89</th>\n",
       "      <td>25.0</td>\n",
       "      <td>1</td>\n",
       "      <td>0</td>\n",
       "      <td>0</td>\n",
       "      <td>0</td>\n",
       "      <td>0</td>\n",
       "      <td>0</td>\n",
       "      <td>0</td>\n",
       "      <td>0</td>\n",
       "      <td>0</td>\n",
       "      <td>...</td>\n",
       "      <td>0</td>\n",
       "      <td>0</td>\n",
       "      <td>0</td>\n",
       "      <td>0</td>\n",
       "      <td>0</td>\n",
       "      <td>0</td>\n",
       "      <td>0</td>\n",
       "      <td>1</td>\n",
       "      <td>0</td>\n",
       "      <td>0</td>\n",
       "    </tr>\n",
       "    <tr>\n",
       "      <th>00004d2ac9316e22dc007ab2243d6fcb239e707d</th>\n",
       "      <td>25.0</td>\n",
       "      <td>0</td>\n",
       "      <td>1</td>\n",
       "      <td>0</td>\n",
       "      <td>0</td>\n",
       "      <td>0</td>\n",
       "      <td>0</td>\n",
       "      <td>0</td>\n",
       "      <td>0</td>\n",
       "      <td>0</td>\n",
       "      <td>...</td>\n",
       "      <td>0</td>\n",
       "      <td>0</td>\n",
       "      <td>0</td>\n",
       "      <td>0</td>\n",
       "      <td>0</td>\n",
       "      <td>0</td>\n",
       "      <td>1</td>\n",
       "      <td>0</td>\n",
       "      <td>0</td>\n",
       "      <td>0</td>\n",
       "    </tr>\n",
       "    <tr>\n",
       "      <th>000063d3fe1cf2ba248b9e3c3f0334845a27a6bf</th>\n",
       "      <td>19.0</td>\n",
       "      <td>0</td>\n",
       "      <td>1</td>\n",
       "      <td>0</td>\n",
       "      <td>0</td>\n",
       "      <td>0</td>\n",
       "      <td>0</td>\n",
       "      <td>0</td>\n",
       "      <td>0</td>\n",
       "      <td>0</td>\n",
       "      <td>...</td>\n",
       "      <td>0</td>\n",
       "      <td>0</td>\n",
       "      <td>0</td>\n",
       "      <td>0</td>\n",
       "      <td>0</td>\n",
       "      <td>0</td>\n",
       "      <td>0</td>\n",
       "      <td>0</td>\n",
       "      <td>1</td>\n",
       "      <td>0</td>\n",
       "    </tr>\n",
       "    <tr>\n",
       "      <th>00007a47085b9aab8af55f52ec8846ac479ac4fe</th>\n",
       "      <td>28.0</td>\n",
       "      <td>0</td>\n",
       "      <td>1</td>\n",
       "      <td>0</td>\n",
       "      <td>0</td>\n",
       "      <td>0</td>\n",
       "      <td>0</td>\n",
       "      <td>0</td>\n",
       "      <td>0</td>\n",
       "      <td>0</td>\n",
       "      <td>...</td>\n",
       "      <td>0</td>\n",
       "      <td>0</td>\n",
       "      <td>0</td>\n",
       "      <td>0</td>\n",
       "      <td>0</td>\n",
       "      <td>0</td>\n",
       "      <td>1</td>\n",
       "      <td>0</td>\n",
       "      <td>0</td>\n",
       "      <td>0</td>\n",
       "    </tr>\n",
       "  </tbody>\n",
       "</table>\n",
       "<p>5 rows × 250 columns</p>\n",
       "</div>"
      ],
      "text/plain": [
       "                                           age  gender_f  gender_m  \\\n",
       "id                                                                   \n",
       "00000c289a1829a808ac09c00daf10bc3c4e223b  22.0         1         0   \n",
       "00001411dc427966b17297bf4d69e7e193135d89  25.0         1         0   \n",
       "00004d2ac9316e22dc007ab2243d6fcb239e707d  25.0         0         1   \n",
       "000063d3fe1cf2ba248b9e3c3f0334845a27a6bf  19.0         0         1   \n",
       "00007a47085b9aab8af55f52ec8846ac479ac4fe  28.0         0         1   \n",
       "\n",
       "                                          country_Afghanistan  \\\n",
       "id                                                              \n",
       "00000c289a1829a808ac09c00daf10bc3c4e223b                    0   \n",
       "00001411dc427966b17297bf4d69e7e193135d89                    0   \n",
       "00004d2ac9316e22dc007ab2243d6fcb239e707d                    0   \n",
       "000063d3fe1cf2ba248b9e3c3f0334845a27a6bf                    0   \n",
       "00007a47085b9aab8af55f52ec8846ac479ac4fe                    0   \n",
       "\n",
       "                                          country_Albania  country_Algeria  \\\n",
       "id                                                                           \n",
       "00000c289a1829a808ac09c00daf10bc3c4e223b                0                0   \n",
       "00001411dc427966b17297bf4d69e7e193135d89                0                0   \n",
       "00004d2ac9316e22dc007ab2243d6fcb239e707d                0                0   \n",
       "000063d3fe1cf2ba248b9e3c3f0334845a27a6bf                0                0   \n",
       "00007a47085b9aab8af55f52ec8846ac479ac4fe                0                0   \n",
       "\n",
       "                                          country_American Samoa  \\\n",
       "id                                                                 \n",
       "00000c289a1829a808ac09c00daf10bc3c4e223b                       0   \n",
       "00001411dc427966b17297bf4d69e7e193135d89                       0   \n",
       "00004d2ac9316e22dc007ab2243d6fcb239e707d                       0   \n",
       "000063d3fe1cf2ba248b9e3c3f0334845a27a6bf                       0   \n",
       "00007a47085b9aab8af55f52ec8846ac479ac4fe                       0   \n",
       "\n",
       "                                          country_Andorra  country_Angola  \\\n",
       "id                                                                          \n",
       "00000c289a1829a808ac09c00daf10bc3c4e223b                0               0   \n",
       "00001411dc427966b17297bf4d69e7e193135d89                0               0   \n",
       "00004d2ac9316e22dc007ab2243d6fcb239e707d                0               0   \n",
       "000063d3fe1cf2ba248b9e3c3f0334845a27a6bf                0               0   \n",
       "00007a47085b9aab8af55f52ec8846ac479ac4fe                0               0   \n",
       "\n",
       "                                          country_Anguilla  ...  \\\n",
       "id                                                          ...   \n",
       "00000c289a1829a808ac09c00daf10bc3c4e223b                 0  ...   \n",
       "00001411dc427966b17297bf4d69e7e193135d89                 0  ...   \n",
       "00004d2ac9316e22dc007ab2243d6fcb239e707d                 0  ...   \n",
       "000063d3fe1cf2ba248b9e3c3f0334845a27a6bf                 0  ...   \n",
       "00007a47085b9aab8af55f52ec8846ac479ac4fe                 0  ...   \n",
       "\n",
       "                                          country_Zambia  country_Zimbabwe  \\\n",
       "id                                                                           \n",
       "00000c289a1829a808ac09c00daf10bc3c4e223b               0                 0   \n",
       "00001411dc427966b17297bf4d69e7e193135d89               0                 0   \n",
       "00004d2ac9316e22dc007ab2243d6fcb239e707d               0                 0   \n",
       "000063d3fe1cf2ba248b9e3c3f0334845a27a6bf               0                 0   \n",
       "00007a47085b9aab8af55f52ec8846ac479ac4fe               0                 0   \n",
       "\n",
       "                                          joined year_2002  joined year_2003  \\\n",
       "id                                                                             \n",
       "00000c289a1829a808ac09c00daf10bc3c4e223b                 0                 0   \n",
       "00001411dc427966b17297bf4d69e7e193135d89                 0                 0   \n",
       "00004d2ac9316e22dc007ab2243d6fcb239e707d                 0                 0   \n",
       "000063d3fe1cf2ba248b9e3c3f0334845a27a6bf                 0                 0   \n",
       "00007a47085b9aab8af55f52ec8846ac479ac4fe                 0                 0   \n",
       "\n",
       "                                          joined year_2004  joined year_2005  \\\n",
       "id                                                                             \n",
       "00000c289a1829a808ac09c00daf10bc3c4e223b                 0                 0   \n",
       "00001411dc427966b17297bf4d69e7e193135d89                 0                 0   \n",
       "00004d2ac9316e22dc007ab2243d6fcb239e707d                 0                 0   \n",
       "000063d3fe1cf2ba248b9e3c3f0334845a27a6bf                 0                 0   \n",
       "00007a47085b9aab8af55f52ec8846ac479ac4fe                 0                 0   \n",
       "\n",
       "                                          joined year_2006  joined year_2007  \\\n",
       "id                                                                             \n",
       "00000c289a1829a808ac09c00daf10bc3c4e223b                 0                 1   \n",
       "00001411dc427966b17297bf4d69e7e193135d89                 0                 1   \n",
       "00004d2ac9316e22dc007ab2243d6fcb239e707d                 1                 0   \n",
       "000063d3fe1cf2ba248b9e3c3f0334845a27a6bf                 0                 0   \n",
       "00007a47085b9aab8af55f52ec8846ac479ac4fe                 1                 0   \n",
       "\n",
       "                                          joined year_2008  joined year_2009  \n",
       "id                                                                            \n",
       "00000c289a1829a808ac09c00daf10bc3c4e223b                 0                 0  \n",
       "00001411dc427966b17297bf4d69e7e193135d89                 0                 0  \n",
       "00004d2ac9316e22dc007ab2243d6fcb239e707d                 0                 0  \n",
       "000063d3fe1cf2ba248b9e3c3f0334845a27a6bf                 1                 0  \n",
       "00007a47085b9aab8af55f52ec8846ac479ac4fe                 0                 0  \n",
       "\n",
       "[5 rows x 250 columns]"
      ]
     },
     "execution_count": 75,
     "metadata": {},
     "output_type": "execute_result"
    }
   ],
   "source": [
    "df_seg.head()"
   ]
  },
  {
   "cell_type": "code",
   "execution_count": 82,
   "metadata": {},
   "outputs": [
    {
     "data": {
      "text/html": [
       "<div>\n",
       "<style scoped>\n",
       "    .dataframe tbody tr th:only-of-type {\n",
       "        vertical-align: middle;\n",
       "    }\n",
       "\n",
       "    .dataframe tbody tr th {\n",
       "        vertical-align: top;\n",
       "    }\n",
       "\n",
       "    .dataframe thead th {\n",
       "        text-align: right;\n",
       "    }\n",
       "</style>\n",
       "<table border=\"1\" class=\"dataframe\">\n",
       "  <thead>\n",
       "    <tr style=\"text-align: right;\">\n",
       "      <th></th>\n",
       "      <th>gender</th>\n",
       "      <th>age</th>\n",
       "      <th>country</th>\n",
       "      <th>joined year</th>\n",
       "    </tr>\n",
       "  </thead>\n",
       "  <tbody>\n",
       "    <tr>\n",
       "      <th>count</th>\n",
       "      <td>359347</td>\n",
       "      <td>359347.000000</td>\n",
       "      <td>359347</td>\n",
       "      <td>359347</td>\n",
       "    </tr>\n",
       "    <tr>\n",
       "      <th>unique</th>\n",
       "      <td>2</td>\n",
       "      <td>NaN</td>\n",
       "      <td>239</td>\n",
       "      <td>8</td>\n",
       "    </tr>\n",
       "    <tr>\n",
       "      <th>top</th>\n",
       "      <td>m</td>\n",
       "      <td>NaN</td>\n",
       "      <td>United States</td>\n",
       "      <td>2008</td>\n",
       "    </tr>\n",
       "    <tr>\n",
       "      <th>freq</th>\n",
       "      <td>274417</td>\n",
       "      <td>NaN</td>\n",
       "      <td>67044</td>\n",
       "      <td>120808</td>\n",
       "    </tr>\n",
       "    <tr>\n",
       "      <th>mean</th>\n",
       "      <td>NaN</td>\n",
       "      <td>25.077610</td>\n",
       "      <td>NaN</td>\n",
       "      <td>NaN</td>\n",
       "    </tr>\n",
       "    <tr>\n",
       "      <th>std</th>\n",
       "      <td>NaN</td>\n",
       "      <td>19.276048</td>\n",
       "      <td>NaN</td>\n",
       "      <td>NaN</td>\n",
       "    </tr>\n",
       "    <tr>\n",
       "      <th>min</th>\n",
       "      <td>NaN</td>\n",
       "      <td>-1337.000000</td>\n",
       "      <td>NaN</td>\n",
       "      <td>NaN</td>\n",
       "    </tr>\n",
       "    <tr>\n",
       "      <th>25%</th>\n",
       "      <td>NaN</td>\n",
       "      <td>21.000000</td>\n",
       "      <td>NaN</td>\n",
       "      <td>NaN</td>\n",
       "    </tr>\n",
       "    <tr>\n",
       "      <th>50%</th>\n",
       "      <td>NaN</td>\n",
       "      <td>25.000000</td>\n",
       "      <td>NaN</td>\n",
       "      <td>NaN</td>\n",
       "    </tr>\n",
       "    <tr>\n",
       "      <th>75%</th>\n",
       "      <td>NaN</td>\n",
       "      <td>26.000000</td>\n",
       "      <td>NaN</td>\n",
       "      <td>NaN</td>\n",
       "    </tr>\n",
       "    <tr>\n",
       "      <th>max</th>\n",
       "      <td>NaN</td>\n",
       "      <td>1002.000000</td>\n",
       "      <td>NaN</td>\n",
       "      <td>NaN</td>\n",
       "    </tr>\n",
       "  </tbody>\n",
       "</table>\n",
       "</div>"
      ],
      "text/plain": [
       "        gender            age        country joined year\n",
       "count   359347  359347.000000         359347      359347\n",
       "unique       2            NaN            239           8\n",
       "top          m            NaN  United States        2008\n",
       "freq    274417            NaN          67044      120808\n",
       "mean       NaN      25.077610            NaN         NaN\n",
       "std        NaN      19.276048            NaN         NaN\n",
       "min        NaN   -1337.000000            NaN         NaN\n",
       "25%        NaN      21.000000            NaN         NaN\n",
       "50%        NaN      25.000000            NaN         NaN\n",
       "75%        NaN      26.000000            NaN         NaN\n",
       "max        NaN    1002.000000            NaN         NaN"
      ]
     },
     "execution_count": 82,
     "metadata": {},
     "output_type": "execute_result"
    }
   ],
   "source": [
    "df_users.describe(include='all')"
   ]
  },
  {
   "cell_type": "code",
   "execution_count": 83,
   "metadata": {},
   "outputs": [],
   "source": [
    "from sklearn.preprocessing import LabelEncoder\n",
    "lb_encoder=LabelEncoder()"
   ]
  },
  {
   "cell_type": "code",
   "execution_count": 84,
   "metadata": {},
   "outputs": [],
   "source": [
    "countries=lb_encoder.fit_transform(df_users.country)"
   ]
  },
  {
   "cell_type": "code",
   "execution_count": 89,
   "metadata": {},
   "outputs": [],
   "source": [
    "year_encoder=LabelEncoder()\n",
    "years=lb_encoder.fit_transform(df_users['joined year'])"
   ]
  },
  {
   "cell_type": "code",
   "execution_count": 90,
   "metadata": {},
   "outputs": [
    {
     "data": {
      "text/plain": [
       "array([5, 5, 4, ..., 5, 3, 6])"
      ]
     },
     "execution_count": 90,
     "metadata": {},
     "output_type": "execute_result"
    }
   ],
   "source": [
    "years"
   ]
  },
  {
   "cell_type": "code",
   "execution_count": 91,
   "metadata": {},
   "outputs": [],
   "source": [
    "gender_encoder=LabelEncoder()\n",
    "genders=lb_encoder.fit_transform(df_users.gender)"
   ]
  },
  {
   "cell_type": "code",
   "execution_count": 92,
   "metadata": {},
   "outputs": [
    {
     "data": {
      "text/plain": [
       "array([0, 0, 1, ..., 1, 1, 1])"
      ]
     },
     "execution_count": 92,
     "metadata": {},
     "output_type": "execute_result"
    }
   ],
   "source": [
    "genders"
   ]
  },
  {
   "cell_type": "markdown",
   "metadata": {},
   "source": [
    "### Applying clustering Techniques \n",
    "\n",
    "Clustering is the task of grouping together a set of objects in a way that objects in the same cluster are more similar to each other than to objects in other clusters. Similarity is a metric that reflects the strength of relationship between two data objects. Clustering is mainly used for exploratory data mining.\n",
    "\n",
    "\n",
    "**we have two ways to find the optimal no.of clusters**\n",
    "1. By Hierarchical clustering we can find the optimal no.of clusters by observing the dendogram\n",
    "2. By ploting the WCSS of a range of cluster using Bottom up approach\n",
    "\n",
    "\n",
    "The first option crashed the kernel because of lack of enough hardware requirement in the laptop.I'm opting for second one\n",
    "\n",
    "K-Means attempts to classify data without having first been trained with labeled data. Once the algorithm has been run and the groups are defined, any new data can be easily assigned to the most relevant group."
   ]
  },
  {
   "cell_type": "code",
   "execution_count": 95,
   "metadata": {},
   "outputs": [
    {
     "name": "stdout",
     "output_type": "stream",
     "text": [
      "134258498.48275355\n",
      "28492159.521132484\n",
      "15087558.004872149\n",
      "8737924.294237286\n",
      "5680436.533094462\n",
      "4150917.3284346457\n",
      "3079109.5899161794\n",
      "2474939.295240826\n",
      "2105803.1053973585\n",
      "1820427.9377313748\n"
     ]
    }
   ],
   "source": [
    "wcss=[]\n",
    "for i in range(1,11):\n",
    "    kmeans=KMeans(n_clusters=i,init='k-means++',random_state=42)\n",
    "    kmeans.fit(df_seg)\n",
    "    wcss.append(kmeans.inertia_)\n",
    "    print(kmeans.inertia_)"
   ]
  },
  {
   "cell_type": "code",
   "execution_count": 96,
   "metadata": {
    "scrolled": true
   },
   "outputs": [
    {
     "data": {
      "text/plain": [
       "[134258498.48275355,\n",
       " 28492159.521132484,\n",
       " 15087558.004872149,\n",
       " 8737924.294237286,\n",
       " 5680436.533094462,\n",
       " 4150917.3284346457,\n",
       " 3079109.5899161794,\n",
       " 2474939.295240826,\n",
       " 2105803.1053973585,\n",
       " 1820427.9377313748]"
      ]
     },
     "execution_count": 96,
     "metadata": {},
     "output_type": "execute_result"
    }
   ],
   "source": [
    "wcss"
   ]
  },
  {
   "cell_type": "code",
   "execution_count": 107,
   "metadata": {},
   "outputs": [],
   "source": [
    "f=open('wcss.txt','w')\n",
    "for i in wcss:\n",
    "    f.write(str(i))\n",
    "    f.write('\\n')\n",
    "f.close()"
   ]
  },
  {
   "cell_type": "code",
   "execution_count": 109,
   "metadata": {},
   "outputs": [
    {
     "data": {
      "image/png": "[encoded data removed]",
      "text/plain": [
       "<Figure size 864x648 with 1 Axes>"
      ]
     },
     "metadata": {
      "needs_background": "light"
     },
     "output_type": "display_data"
    }
   ],
   "source": [
    "plt.figure(figsize=(12,9))\n",
    "plt.plot(range(1,11),wcss,marker='o',linestyle='--')\n",
    "plt.xlabel('Number of clusters')\n",
    "plt.ylabel('wcss')\n",
    "plt.show()"
   ]
  },
  {
   "cell_type": "markdown",
   "metadata": {},
   "source": [
    "We graph the relationship between the number of clusters and Within Cluster Sum of Squares (WCSS) then we select the number of clusters where the change in WCSS begins to level off (elbow method).\n",
    "\n",
    "WCSS is defined as the sum of the squared distance between each member of the cluster and its centroid."
   ]
  },
  {
   "cell_type": "code",
   "execution_count": 110,
   "metadata": {},
   "outputs": [
    {
     "data": {
      "text/plain": [
       "KMeans(algorithm='auto', copy_x=True, init='k-means++', max_iter=300,\n",
       "    n_clusters=3, n_init=10, n_jobs=None, precompute_distances='auto',\n",
       "    random_state=42, tol=0.0001, verbose=0)"
      ]
     },
     "execution_count": 110,
     "metadata": {},
     "output_type": "execute_result"
    }
   ],
   "source": [
    "kmeans=KMeans(n_clusters=3,init='k-means++',random_state=42)\n",
    "kmeans.fit(df_seg)"
   ]
  },
  {
   "cell_type": "code",
   "execution_count": 111,
   "metadata": {},
   "outputs": [],
   "source": [
    "df_segm_kmeans=df_seg.copy()\n",
    "df_segm_kmeans['segment K-means']=kmeans.labels_"
   ]
  },
  {
   "cell_type": "markdown",
   "metadata": {},
   "source": [
    "### Applying the clustering technique with Label Encoding"
   ]
  },
  {
   "cell_type": "code",
   "execution_count": 113,
   "metadata": {},
   "outputs": [
    {
     "data": {
      "text/html": [
       "<div>\n",
       "<style scoped>\n",
       "    .dataframe tbody tr th:only-of-type {\n",
       "        vertical-align: middle;\n",
       "    }\n",
       "\n",
       "    .dataframe tbody tr th {\n",
       "        vertical-align: top;\n",
       "    }\n",
       "\n",
       "    .dataframe thead th {\n",
       "        text-align: right;\n",
       "    }\n",
       "</style>\n",
       "<table border=\"1\" class=\"dataframe\">\n",
       "  <thead>\n",
       "    <tr style=\"text-align: right;\">\n",
       "      <th></th>\n",
       "      <th>gender</th>\n",
       "      <th>age</th>\n",
       "      <th>country</th>\n",
       "      <th>joined year</th>\n",
       "    </tr>\n",
       "    <tr>\n",
       "      <th>id</th>\n",
       "      <th></th>\n",
       "      <th></th>\n",
       "      <th></th>\n",
       "      <th></th>\n",
       "    </tr>\n",
       "  </thead>\n",
       "  <tbody>\n",
       "    <tr>\n",
       "      <th>00000c289a1829a808ac09c00daf10bc3c4e223b</th>\n",
       "      <td>f</td>\n",
       "      <td>22.0</td>\n",
       "      <td>Germany</td>\n",
       "      <td>2007</td>\n",
       "    </tr>\n",
       "    <tr>\n",
       "      <th>00001411dc427966b17297bf4d69e7e193135d89</th>\n",
       "      <td>f</td>\n",
       "      <td>25.0</td>\n",
       "      <td>Canada</td>\n",
       "      <td>2007</td>\n",
       "    </tr>\n",
       "    <tr>\n",
       "      <th>00004d2ac9316e22dc007ab2243d6fcb239e707d</th>\n",
       "      <td>m</td>\n",
       "      <td>25.0</td>\n",
       "      <td>Germany</td>\n",
       "      <td>2006</td>\n",
       "    </tr>\n",
       "    <tr>\n",
       "      <th>000063d3fe1cf2ba248b9e3c3f0334845a27a6bf</th>\n",
       "      <td>m</td>\n",
       "      <td>19.0</td>\n",
       "      <td>Mexico</td>\n",
       "      <td>2008</td>\n",
       "    </tr>\n",
       "    <tr>\n",
       "      <th>00007a47085b9aab8af55f52ec8846ac479ac4fe</th>\n",
       "      <td>m</td>\n",
       "      <td>28.0</td>\n",
       "      <td>United States</td>\n",
       "      <td>2006</td>\n",
       "    </tr>\n",
       "  </tbody>\n",
       "</table>\n",
       "</div>"
      ],
      "text/plain": [
       "                                         gender   age        country  \\\n",
       "id                                                                     \n",
       "00000c289a1829a808ac09c00daf10bc3c4e223b      f  22.0        Germany   \n",
       "00001411dc427966b17297bf4d69e7e193135d89      f  25.0         Canada   \n",
       "00004d2ac9316e22dc007ab2243d6fcb239e707d      m  25.0        Germany   \n",
       "000063d3fe1cf2ba248b9e3c3f0334845a27a6bf      m  19.0         Mexico   \n",
       "00007a47085b9aab8af55f52ec8846ac479ac4fe      m  28.0  United States   \n",
       "\n",
       "                                         joined year  \n",
       "id                                                    \n",
       "00000c289a1829a808ac09c00daf10bc3c4e223b        2007  \n",
       "00001411dc427966b17297bf4d69e7e193135d89        2007  \n",
       "00004d2ac9316e22dc007ab2243d6fcb239e707d        2006  \n",
       "000063d3fe1cf2ba248b9e3c3f0334845a27a6bf        2008  \n",
       "00007a47085b9aab8af55f52ec8846ac479ac4fe        2006  "
      ]
     },
     "execution_count": 113,
     "metadata": {},
     "output_type": "execute_result"
    }
   ],
   "source": [
    "df_users.head()"
   ]
  },
  {
   "cell_type": "code",
   "execution_count": 114,
   "metadata": {},
   "outputs": [],
   "source": [
    "df_users_en=df_users.copy()"
   ]
  },
  {
   "cell_type": "code",
   "execution_count": 116,
   "metadata": {},
   "outputs": [],
   "source": [
    "df_users_en['gender']=genders\n",
    "df_users_en['country']=countries\n",
    "df_users_en['joined year']=years"
   ]
  },
  {
   "cell_type": "code",
   "execution_count": 117,
   "metadata": {},
   "outputs": [
    {
     "data": {
      "text/html": [
       "<div>\n",
       "<style scoped>\n",
       "    .dataframe tbody tr th:only-of-type {\n",
       "        vertical-align: middle;\n",
       "    }\n",
       "\n",
       "    .dataframe tbody tr th {\n",
       "        vertical-align: top;\n",
       "    }\n",
       "\n",
       "    .dataframe thead th {\n",
       "        text-align: right;\n",
       "    }\n",
       "</style>\n",
       "<table border=\"1\" class=\"dataframe\">\n",
       "  <thead>\n",
       "    <tr style=\"text-align: right;\">\n",
       "      <th></th>\n",
       "      <th>gender</th>\n",
       "      <th>age</th>\n",
       "      <th>country</th>\n",
       "      <th>joined year</th>\n",
       "    </tr>\n",
       "    <tr>\n",
       "      <th>id</th>\n",
       "      <th></th>\n",
       "      <th></th>\n",
       "      <th></th>\n",
       "      <th></th>\n",
       "    </tr>\n",
       "  </thead>\n",
       "  <tbody>\n",
       "    <tr>\n",
       "      <th>00000c289a1829a808ac09c00daf10bc3c4e223b</th>\n",
       "      <td>0</td>\n",
       "      <td>22.0</td>\n",
       "      <td>79</td>\n",
       "      <td>5</td>\n",
       "    </tr>\n",
       "    <tr>\n",
       "      <th>00001411dc427966b17297bf4d69e7e193135d89</th>\n",
       "      <td>0</td>\n",
       "      <td>25.0</td>\n",
       "      <td>37</td>\n",
       "      <td>5</td>\n",
       "    </tr>\n",
       "    <tr>\n",
       "      <th>00004d2ac9316e22dc007ab2243d6fcb239e707d</th>\n",
       "      <td>1</td>\n",
       "      <td>25.0</td>\n",
       "      <td>79</td>\n",
       "      <td>4</td>\n",
       "    </tr>\n",
       "    <tr>\n",
       "      <th>000063d3fe1cf2ba248b9e3c3f0334845a27a6bf</th>\n",
       "      <td>1</td>\n",
       "      <td>19.0</td>\n",
       "      <td>136</td>\n",
       "      <td>6</td>\n",
       "    </tr>\n",
       "    <tr>\n",
       "      <th>00007a47085b9aab8af55f52ec8846ac479ac4fe</th>\n",
       "      <td>1</td>\n",
       "      <td>28.0</td>\n",
       "      <td>225</td>\n",
       "      <td>4</td>\n",
       "    </tr>\n",
       "  </tbody>\n",
       "</table>\n",
       "</div>"
      ],
      "text/plain": [
       "                                          gender   age  country  joined year\n",
       "id                                                                          \n",
       "00000c289a1829a808ac09c00daf10bc3c4e223b       0  22.0       79            5\n",
       "00001411dc427966b17297bf4d69e7e193135d89       0  25.0       37            5\n",
       "00004d2ac9316e22dc007ab2243d6fcb239e707d       1  25.0       79            4\n",
       "000063d3fe1cf2ba248b9e3c3f0334845a27a6bf       1  19.0      136            6\n",
       "00007a47085b9aab8af55f52ec8846ac479ac4fe       1  28.0      225            4"
      ]
     },
     "execution_count": 117,
     "metadata": {},
     "output_type": "execute_result"
    }
   ],
   "source": [
    "df_users_en.head()"
   ]
  },
  {
   "cell_type": "code",
   "execution_count": 130,
   "metadata": {},
   "outputs": [
    {
     "name": "stdout",
     "output_type": "stream",
     "text": [
      "2086135898.8955686\n",
      "431290273.3553824\n",
      "290135430.90301967\n",
      "184763290.25917345\n",
      "86585872.56605095\n",
      "66684087.42352505\n",
      "52578488.68448655\n",
      "44171563.90171374\n",
      "38522141.4220099\n",
      "33634118.314277805\n"
     ]
    }
   ],
   "source": [
    "test_wcss=[]\n",
    "for i in range(1,11):\n",
    "    kmeans=KMeans(n_clusters=i,init='k-means++',random_state=42)\n",
    "    kmeans.fit(df_users_en)\n",
    "    test_wcss.append(kmeans.inertia_)\n",
    "    print(kmeans.inertia_)"
   ]
  },
  {
   "cell_type": "code",
   "execution_count": 131,
   "metadata": {},
   "outputs": [
    {
     "data": {
      "image/png": "[encoded data removed]",
      "text/plain": [
       "<Figure size 864x648 with 1 Axes>"
      ]
     },
     "metadata": {
      "needs_background": "light"
     },
     "output_type": "display_data"
    }
   ],
   "source": [
    "plt.figure(figsize=(12,9))\n",
    "plt.plot(range(1,11),test_wcss,marker='o',linestyle='--')\n",
    "plt.xlabel('Number of clusters')\n",
    "plt.ylabel('wcss')\n",
    "plt.show()"
   ]
  },
  {
   "cell_type": "markdown",
   "metadata": {},
   "source": [
    "From the above graph we can conclude that there are three optimal clusters can be formed using Elbow-point method"
   ]
  },
  {
   "cell_type": "code",
   "execution_count": 136,
   "metadata": {},
   "outputs": [
    {
     "data": {
      "text/plain": [
       "KMeans(algorithm='auto', copy_x=True, init='k-means++', max_iter=300,\n",
       "    n_clusters=3, n_init=10, n_jobs=None, precompute_distances='auto',\n",
       "    random_state=42, tol=0.0001, verbose=0)"
      ]
     },
     "execution_count": 136,
     "metadata": {},
     "output_type": "execute_result"
    }
   ],
   "source": [
    "kmeans=KMeans(n_clusters=3,init='k-means++',random_state=42)\n",
    "kmeans.fit(df_users_en)"
   ]
  },
  {
   "cell_type": "code",
   "execution_count": 137,
   "metadata": {},
   "outputs": [],
   "source": [
    "df_en_segm_kmeans=df_users_en.copy()\n",
    "df_en_segm_kmeans['segment K-means']=kmeans.labels_"
   ]
  },
  {
   "cell_type": "code",
   "execution_count": 138,
   "metadata": {},
   "outputs": [
    {
     "data": {
      "text/html": [
       "<div>\n",
       "<style scoped>\n",
       "    .dataframe tbody tr th:only-of-type {\n",
       "        vertical-align: middle;\n",
       "    }\n",
       "\n",
       "    .dataframe tbody tr th {\n",
       "        vertical-align: top;\n",
       "    }\n",
       "\n",
       "    .dataframe thead th {\n",
       "        text-align: right;\n",
       "    }\n",
       "</style>\n",
       "<table border=\"1\" class=\"dataframe\">\n",
       "  <thead>\n",
       "    <tr style=\"text-align: right;\">\n",
       "      <th></th>\n",
       "      <th>gender</th>\n",
       "      <th>age</th>\n",
       "      <th>country</th>\n",
       "      <th>joined year</th>\n",
       "      <th>segment K-means</th>\n",
       "    </tr>\n",
       "    <tr>\n",
       "      <th>id</th>\n",
       "      <th></th>\n",
       "      <th></th>\n",
       "      <th></th>\n",
       "      <th></th>\n",
       "      <th></th>\n",
       "    </tr>\n",
       "  </thead>\n",
       "  <tbody>\n",
       "    <tr>\n",
       "      <th>00000c289a1829a808ac09c00daf10bc3c4e223b</th>\n",
       "      <td>0</td>\n",
       "      <td>22.0</td>\n",
       "      <td>79</td>\n",
       "      <td>5</td>\n",
       "      <td>0</td>\n",
       "    </tr>\n",
       "    <tr>\n",
       "      <th>00001411dc427966b17297bf4d69e7e193135d89</th>\n",
       "      <td>0</td>\n",
       "      <td>25.0</td>\n",
       "      <td>37</td>\n",
       "      <td>5</td>\n",
       "      <td>0</td>\n",
       "    </tr>\n",
       "    <tr>\n",
       "      <th>00004d2ac9316e22dc007ab2243d6fcb239e707d</th>\n",
       "      <td>1</td>\n",
       "      <td>25.0</td>\n",
       "      <td>79</td>\n",
       "      <td>4</td>\n",
       "      <td>0</td>\n",
       "    </tr>\n",
       "    <tr>\n",
       "      <th>000063d3fe1cf2ba248b9e3c3f0334845a27a6bf</th>\n",
       "      <td>1</td>\n",
       "      <td>19.0</td>\n",
       "      <td>136</td>\n",
       "      <td>6</td>\n",
       "      <td>2</td>\n",
       "    </tr>\n",
       "    <tr>\n",
       "      <th>00007a47085b9aab8af55f52ec8846ac479ac4fe</th>\n",
       "      <td>1</td>\n",
       "      <td>28.0</td>\n",
       "      <td>225</td>\n",
       "      <td>4</td>\n",
       "      <td>1</td>\n",
       "    </tr>\n",
       "  </tbody>\n",
       "</table>\n",
       "</div>"
      ],
      "text/plain": [
       "                                          gender   age  country  joined year  \\\n",
       "id                                                                             \n",
       "00000c289a1829a808ac09c00daf10bc3c4e223b       0  22.0       79            5   \n",
       "00001411dc427966b17297bf4d69e7e193135d89       0  25.0       37            5   \n",
       "00004d2ac9316e22dc007ab2243d6fcb239e707d       1  25.0       79            4   \n",
       "000063d3fe1cf2ba248b9e3c3f0334845a27a6bf       1  19.0      136            6   \n",
       "00007a47085b9aab8af55f52ec8846ac479ac4fe       1  28.0      225            4   \n",
       "\n",
       "                                          segment K-means  \n",
       "id                                                         \n",
       "00000c289a1829a808ac09c00daf10bc3c4e223b                0  \n",
       "00001411dc427966b17297bf4d69e7e193135d89                0  \n",
       "00004d2ac9316e22dc007ab2243d6fcb239e707d                0  \n",
       "000063d3fe1cf2ba248b9e3c3f0334845a27a6bf                2  \n",
       "00007a47085b9aab8af55f52ec8846ac479ac4fe                1  "
      ]
     },
     "execution_count": 138,
     "metadata": {},
     "output_type": "execute_result"
    }
   ],
   "source": [
    "df_en_segm_kmeans.head()"
   ]
  },
  {
   "cell_type": "code",
   "execution_count": 140,
   "metadata": {},
   "outputs": [
    {
     "data": {
      "text/html": [
       "<div>\n",
       "<style scoped>\n",
       "    .dataframe tbody tr th:only-of-type {\n",
       "        vertical-align: middle;\n",
       "    }\n",
       "\n",
       "    .dataframe tbody tr th {\n",
       "        vertical-align: top;\n",
       "    }\n",
       "\n",
       "    .dataframe thead th {\n",
       "        text-align: right;\n",
       "    }\n",
       "</style>\n",
       "<table border=\"1\" class=\"dataframe\">\n",
       "  <thead>\n",
       "    <tr style=\"text-align: right;\">\n",
       "      <th></th>\n",
       "      <th>gender</th>\n",
       "      <th>age</th>\n",
       "      <th>country</th>\n",
       "      <th>joined year</th>\n",
       "    </tr>\n",
       "    <tr>\n",
       "      <th>segment K-means</th>\n",
       "      <th></th>\n",
       "      <th></th>\n",
       "      <th></th>\n",
       "      <th></th>\n",
       "    </tr>\n",
       "  </thead>\n",
       "  <tbody>\n",
       "    <tr>\n",
       "      <th>0</th>\n",
       "      <td>139132</td>\n",
       "      <td>139132</td>\n",
       "      <td>139132</td>\n",
       "      <td>139132</td>\n",
       "    </tr>\n",
       "    <tr>\n",
       "      <th>1</th>\n",
       "      <td>143475</td>\n",
       "      <td>143475</td>\n",
       "      <td>143475</td>\n",
       "      <td>143475</td>\n",
       "    </tr>\n",
       "    <tr>\n",
       "      <th>2</th>\n",
       "      <td>76740</td>\n",
       "      <td>76740</td>\n",
       "      <td>76740</td>\n",
       "      <td>76740</td>\n",
       "    </tr>\n",
       "  </tbody>\n",
       "</table>\n",
       "</div>"
      ],
      "text/plain": [
       "                 gender     age  country  joined year\n",
       "segment K-means                                      \n",
       "0                139132  139132   139132       139132\n",
       "1                143475  143475   143475       143475\n",
       "2                 76740   76740    76740        76740"
      ]
     },
     "execution_count": 140,
     "metadata": {},
     "output_type": "execute_result"
    }
   ],
   "source": [
    "df_en_segm_kmeans.groupby(['segment K-means']).count()"
   ]
  },
  {
   "cell_type": "code",
   "execution_count": 147,
   "metadata": {},
   "outputs": [
    {
     "data": {
      "image/png": "[encoded data removed]",
      "text/plain": [
       "<Figure size 720x576 with 1 Axes>"
      ]
     },
     "metadata": {
      "needs_background": "light"
     },
     "output_type": "display_data"
    }
   ],
   "source": [
    "x_axis=df_en_segm_kmeans['age']\n",
    "y_axis=df_en_segm_kmeans['gender']\n",
    "plt.figure(figsize=(10,8))\n",
    "sns.scatterplot(x_axis,y_axis,hue=df_en_segm_kmeans['segment K-means'])\n",
    "plt.title('Segmentation K-means')\n",
    "plt.show()"
   ]
  },
  {
   "cell_type": "markdown",
   "metadata": {},
   "source": [
    "# PCA\n",
    "\n",
    "It is a common practice to apply PCA (principal component analysis) before a clustering algorithm (such as k-means). It is believed that it improves the clustering results in practice (noise reduction)."
   ]
  },
  {
   "cell_type": "code",
   "execution_count": 148,
   "metadata": {},
   "outputs": [
    {
     "data": {
      "text/html": [
       "<div>\n",
       "<style scoped>\n",
       "    .dataframe tbody tr th:only-of-type {\n",
       "        vertical-align: middle;\n",
       "    }\n",
       "\n",
       "    .dataframe tbody tr th {\n",
       "        vertical-align: top;\n",
       "    }\n",
       "\n",
       "    .dataframe thead th {\n",
       "        text-align: right;\n",
       "    }\n",
       "</style>\n",
       "<table border=\"1\" class=\"dataframe\">\n",
       "  <thead>\n",
       "    <tr style=\"text-align: right;\">\n",
       "      <th></th>\n",
       "      <th>age</th>\n",
       "      <th>gender_f</th>\n",
       "      <th>gender_m</th>\n",
       "      <th>country_Afghanistan</th>\n",
       "      <th>country_Albania</th>\n",
       "      <th>country_Algeria</th>\n",
       "      <th>country_American Samoa</th>\n",
       "      <th>country_Andorra</th>\n",
       "      <th>country_Angola</th>\n",
       "      <th>country_Anguilla</th>\n",
       "      <th>...</th>\n",
       "      <th>country_Zambia</th>\n",
       "      <th>country_Zimbabwe</th>\n",
       "      <th>joined year_2002</th>\n",
       "      <th>joined year_2003</th>\n",
       "      <th>joined year_2004</th>\n",
       "      <th>joined year_2005</th>\n",
       "      <th>joined year_2006</th>\n",
       "      <th>joined year_2007</th>\n",
       "      <th>joined year_2008</th>\n",
       "      <th>joined year_2009</th>\n",
       "    </tr>\n",
       "    <tr>\n",
       "      <th>id</th>\n",
       "      <th></th>\n",
       "      <th></th>\n",
       "      <th></th>\n",
       "      <th></th>\n",
       "      <th></th>\n",
       "      <th></th>\n",
       "      <th></th>\n",
       "      <th></th>\n",
       "      <th></th>\n",
       "      <th></th>\n",
       "      <th></th>\n",
       "      <th></th>\n",
       "      <th></th>\n",
       "      <th></th>\n",
       "      <th></th>\n",
       "      <th></th>\n",
       "      <th></th>\n",
       "      <th></th>\n",
       "      <th></th>\n",
       "      <th></th>\n",
       "      <th></th>\n",
       "    </tr>\n",
       "  </thead>\n",
       "  <tbody>\n",
       "    <tr>\n",
       "      <th>00000c289a1829a808ac09c00daf10bc3c4e223b</th>\n",
       "      <td>22.0</td>\n",
       "      <td>1</td>\n",
       "      <td>0</td>\n",
       "      <td>0</td>\n",
       "      <td>0</td>\n",
       "      <td>0</td>\n",
       "      <td>0</td>\n",
       "      <td>0</td>\n",
       "      <td>0</td>\n",
       "      <td>0</td>\n",
       "      <td>...</td>\n",
       "      <td>0</td>\n",
       "      <td>0</td>\n",
       "      <td>0</td>\n",
       "      <td>0</td>\n",
       "      <td>0</td>\n",
       "      <td>0</td>\n",
       "      <td>0</td>\n",
       "      <td>1</td>\n",
       "      <td>0</td>\n",
       "      <td>0</td>\n",
       "    </tr>\n",
       "    <tr>\n",
       "      <th>00001411dc427966b17297bf4d69e7e193135d89</th>\n",
       "      <td>25.0</td>\n",
       "      <td>1</td>\n",
       "      <td>0</td>\n",
       "      <td>0</td>\n",
       "      <td>0</td>\n",
       "      <td>0</td>\n",
       "      <td>0</td>\n",
       "      <td>0</td>\n",
       "      <td>0</td>\n",
       "      <td>0</td>\n",
       "      <td>...</td>\n",
       "      <td>0</td>\n",
       "      <td>0</td>\n",
       "      <td>0</td>\n",
       "      <td>0</td>\n",
       "      <td>0</td>\n",
       "      <td>0</td>\n",
       "      <td>0</td>\n",
       "      <td>1</td>\n",
       "      <td>0</td>\n",
       "      <td>0</td>\n",
       "    </tr>\n",
       "    <tr>\n",
       "      <th>00004d2ac9316e22dc007ab2243d6fcb239e707d</th>\n",
       "      <td>25.0</td>\n",
       "      <td>0</td>\n",
       "      <td>1</td>\n",
       "      <td>0</td>\n",
       "      <td>0</td>\n",
       "      <td>0</td>\n",
       "      <td>0</td>\n",
       "      <td>0</td>\n",
       "      <td>0</td>\n",
       "      <td>0</td>\n",
       "      <td>...</td>\n",
       "      <td>0</td>\n",
       "      <td>0</td>\n",
       "      <td>0</td>\n",
       "      <td>0</td>\n",
       "      <td>0</td>\n",
       "      <td>0</td>\n",
       "      <td>1</td>\n",
       "      <td>0</td>\n",
       "      <td>0</td>\n",
       "      <td>0</td>\n",
       "    </tr>\n",
       "    <tr>\n",
       "      <th>000063d3fe1cf2ba248b9e3c3f0334845a27a6bf</th>\n",
       "      <td>19.0</td>\n",
       "      <td>0</td>\n",
       "      <td>1</td>\n",
       "      <td>0</td>\n",
       "      <td>0</td>\n",
       "      <td>0</td>\n",
       "      <td>0</td>\n",
       "      <td>0</td>\n",
       "      <td>0</td>\n",
       "      <td>0</td>\n",
       "      <td>...</td>\n",
       "      <td>0</td>\n",
       "      <td>0</td>\n",
       "      <td>0</td>\n",
       "      <td>0</td>\n",
       "      <td>0</td>\n",
       "      <td>0</td>\n",
       "      <td>0</td>\n",
       "      <td>0</td>\n",
       "      <td>1</td>\n",
       "      <td>0</td>\n",
       "    </tr>\n",
       "    <tr>\n",
       "      <th>00007a47085b9aab8af55f52ec8846ac479ac4fe</th>\n",
       "      <td>28.0</td>\n",
       "      <td>0</td>\n",
       "      <td>1</td>\n",
       "      <td>0</td>\n",
       "      <td>0</td>\n",
       "      <td>0</td>\n",
       "      <td>0</td>\n",
       "      <td>0</td>\n",
       "      <td>0</td>\n",
       "      <td>0</td>\n",
       "      <td>...</td>\n",
       "      <td>0</td>\n",
       "      <td>0</td>\n",
       "      <td>0</td>\n",
       "      <td>0</td>\n",
       "      <td>0</td>\n",
       "      <td>0</td>\n",
       "      <td>1</td>\n",
       "      <td>0</td>\n",
       "      <td>0</td>\n",
       "      <td>0</td>\n",
       "    </tr>\n",
       "  </tbody>\n",
       "</table>\n",
       "<p>5 rows × 250 columns</p>\n",
       "</div>"
      ],
      "text/plain": [
       "                                           age  gender_f  gender_m  \\\n",
       "id                                                                   \n",
       "00000c289a1829a808ac09c00daf10bc3c4e223b  22.0         1         0   \n",
       "00001411dc427966b17297bf4d69e7e193135d89  25.0         1         0   \n",
       "00004d2ac9316e22dc007ab2243d6fcb239e707d  25.0         0         1   \n",
       "000063d3fe1cf2ba248b9e3c3f0334845a27a6bf  19.0         0         1   \n",
       "00007a47085b9aab8af55f52ec8846ac479ac4fe  28.0         0         1   \n",
       "\n",
       "                                          country_Afghanistan  \\\n",
       "id                                                              \n",
       "00000c289a1829a808ac09c00daf10bc3c4e223b                    0   \n",
       "00001411dc427966b17297bf4d69e7e193135d89                    0   \n",
       "00004d2ac9316e22dc007ab2243d6fcb239e707d                    0   \n",
       "000063d3fe1cf2ba248b9e3c3f0334845a27a6bf                    0   \n",
       "00007a47085b9aab8af55f52ec8846ac479ac4fe                    0   \n",
       "\n",
       "                                          country_Albania  country_Algeria  \\\n",
       "id                                                                           \n",
       "00000c289a1829a808ac09c00daf10bc3c4e223b                0                0   \n",
       "00001411dc427966b17297bf4d69e7e193135d89                0                0   \n",
       "00004d2ac9316e22dc007ab2243d6fcb239e707d                0                0   \n",
       "000063d3fe1cf2ba248b9e3c3f0334845a27a6bf                0                0   \n",
       "00007a47085b9aab8af55f52ec8846ac479ac4fe                0                0   \n",
       "\n",
       "                                          country_American Samoa  \\\n",
       "id                                                                 \n",
       "00000c289a1829a808ac09c00daf10bc3c4e223b                       0   \n",
       "00001411dc427966b17297bf4d69e7e193135d89                       0   \n",
       "00004d2ac9316e22dc007ab2243d6fcb239e707d                       0   \n",
       "000063d3fe1cf2ba248b9e3c3f0334845a27a6bf                       0   \n",
       "00007a47085b9aab8af55f52ec8846ac479ac4fe                       0   \n",
       "\n",
       "                                          country_Andorra  country_Angola  \\\n",
       "id                                                                          \n",
       "00000c289a1829a808ac09c00daf10bc3c4e223b                0               0   \n",
       "00001411dc427966b17297bf4d69e7e193135d89                0               0   \n",
       "00004d2ac9316e22dc007ab2243d6fcb239e707d                0               0   \n",
       "000063d3fe1cf2ba248b9e3c3f0334845a27a6bf                0               0   \n",
       "00007a47085b9aab8af55f52ec8846ac479ac4fe                0               0   \n",
       "\n",
       "                                          country_Anguilla  ...  \\\n",
       "id                                                          ...   \n",
       "00000c289a1829a808ac09c00daf10bc3c4e223b                 0  ...   \n",
       "00001411dc427966b17297bf4d69e7e193135d89                 0  ...   \n",
       "00004d2ac9316e22dc007ab2243d6fcb239e707d                 0  ...   \n",
       "000063d3fe1cf2ba248b9e3c3f0334845a27a6bf                 0  ...   \n",
       "00007a47085b9aab8af55f52ec8846ac479ac4fe                 0  ...   \n",
       "\n",
       "                                          country_Zambia  country_Zimbabwe  \\\n",
       "id                                                                           \n",
       "00000c289a1829a808ac09c00daf10bc3c4e223b               0                 0   \n",
       "00001411dc427966b17297bf4d69e7e193135d89               0                 0   \n",
       "00004d2ac9316e22dc007ab2243d6fcb239e707d               0                 0   \n",
       "000063d3fe1cf2ba248b9e3c3f0334845a27a6bf               0                 0   \n",
       "00007a47085b9aab8af55f52ec8846ac479ac4fe               0                 0   \n",
       "\n",
       "                                          joined year_2002  joined year_2003  \\\n",
       "id                                                                             \n",
       "00000c289a1829a808ac09c00daf10bc3c4e223b                 0                 0   \n",
       "00001411dc427966b17297bf4d69e7e193135d89                 0                 0   \n",
       "00004d2ac9316e22dc007ab2243d6fcb239e707d                 0                 0   \n",
       "000063d3fe1cf2ba248b9e3c3f0334845a27a6bf                 0                 0   \n",
       "00007a47085b9aab8af55f52ec8846ac479ac4fe                 0                 0   \n",
       "\n",
       "                                          joined year_2004  joined year_2005  \\\n",
       "id                                                                             \n",
       "00000c289a1829a808ac09c00daf10bc3c4e223b                 0                 0   \n",
       "00001411dc427966b17297bf4d69e7e193135d89                 0                 0   \n",
       "00004d2ac9316e22dc007ab2243d6fcb239e707d                 0                 0   \n",
       "000063d3fe1cf2ba248b9e3c3f0334845a27a6bf                 0                 0   \n",
       "00007a47085b9aab8af55f52ec8846ac479ac4fe                 0                 0   \n",
       "\n",
       "                                          joined year_2006  joined year_2007  \\\n",
       "id                                                                             \n",
       "00000c289a1829a808ac09c00daf10bc3c4e223b                 0                 1   \n",
       "00001411dc427966b17297bf4d69e7e193135d89                 0                 1   \n",
       "00004d2ac9316e22dc007ab2243d6fcb239e707d                 1                 0   \n",
       "000063d3fe1cf2ba248b9e3c3f0334845a27a6bf                 0                 0   \n",
       "00007a47085b9aab8af55f52ec8846ac479ac4fe                 1                 0   \n",
       "\n",
       "                                          joined year_2008  joined year_2009  \n",
       "id                                                                            \n",
       "00000c289a1829a808ac09c00daf10bc3c4e223b                 0                 0  \n",
       "00001411dc427966b17297bf4d69e7e193135d89                 0                 0  \n",
       "00004d2ac9316e22dc007ab2243d6fcb239e707d                 0                 0  \n",
       "000063d3fe1cf2ba248b9e3c3f0334845a27a6bf                 1                 0  \n",
       "00007a47085b9aab8af55f52ec8846ac479ac4fe                 0                 0  \n",
       "\n",
       "[5 rows x 250 columns]"
      ]
     },
     "execution_count": 148,
     "metadata": {},
     "output_type": "execute_result"
    }
   ],
   "source": [
    "df_seg.head()"
   ]
  },
  {
   "cell_type": "code",
   "execution_count": 149,
   "metadata": {},
   "outputs": [
    {
     "data": {
      "text/plain": [
       "(359347, 250)"
      ]
     },
     "execution_count": 149,
     "metadata": {},
     "output_type": "execute_result"
    }
   ],
   "source": [
    "df_seg.shape"
   ]
  },
  {
   "cell_type": "code",
   "execution_count": 151,
   "metadata": {
    "scrolled": true
   },
   "outputs": [
    {
     "data": {
      "text/plain": [
       "PCA(copy=True, iterated_power='auto', n_components=None, random_state=None,\n",
       "  svd_solver='auto', tol=0.0, whiten=False)"
      ]
     },
     "execution_count": 151,
     "metadata": {},
     "output_type": "execute_result"
    }
   ],
   "source": [
    "from sklearn.decomposition import PCA\n",
    "pca=PCA()\n",
    "pca.fit(df_seg)"
   ]
  },
  {
   "cell_type": "markdown",
   "metadata": {},
   "source": [
    "**On the applying the pca on the dataset we can get the variance explained by each column/field. As a rule of thumb we have to retain the components explaining more than 80% variance**"
   ]
  },
  {
   "cell_type": "code",
   "execution_count": 152,
   "metadata": {},
   "outputs": [
    {
     "data": {
      "text/plain": [
       "array([9.94508186e-01, 9.73522817e-04, 8.20579773e-04, 5.95721570e-04,\n",
       "       4.23043046e-04, 3.16620110e-04, 2.36815861e-04, 2.24564767e-04,\n",
       "       1.94659919e-04, 1.52096641e-04, 1.32009525e-04, 1.04611178e-04,\n",
       "       9.71849613e-05, 9.02506282e-05, 7.90944697e-05, 6.88602904e-05,\n",
       "       6.24582865e-05, 5.91033460e-05, 5.59826220e-05, 5.40947256e-05,\n",
       "       5.09339156e-05, 4.85152270e-05, 4.18295955e-05, 3.72284667e-05,\n",
       "       3.57277045e-05, 3.34830053e-05, 2.97241284e-05, 2.62015022e-05,\n",
       "       2.33735151e-05, 2.21352569e-05, 2.08321749e-05, 2.08007512e-05,\n",
       "       2.00785538e-05, 1.96385456e-05, 1.88673504e-05, 1.61374506e-05,\n",
       "       1.47573341e-05, 1.44643374e-05, 1.40240498e-05, 1.37709835e-05,\n",
       "       1.31064515e-05, 1.23692322e-05, 1.18111175e-05, 1.10000004e-05,\n",
       "       1.00279260e-05, 9.47876445e-06, 9.14714313e-06, 8.86760541e-06,\n",
       "       8.67800866e-06, 7.70307208e-06, 7.67159210e-06, 5.76894105e-06,\n",
       "       5.19930343e-06, 4.80708919e-06, 4.56295442e-06, 4.46261434e-06,\n",
       "       4.26692383e-06, 3.83936073e-06, 3.67754963e-06, 3.34438438e-06,\n",
       "       3.18773258e-06, 3.12815711e-06, 2.87014131e-06, 2.75656584e-06,\n",
       "       2.72712673e-06, 2.47237075e-06, 2.38166637e-06, 2.19906353e-06,\n",
       "       2.05900936e-06, 1.97978608e-06, 1.90307330e-06, 1.68047567e-06,\n",
       "       1.59470740e-06, 1.50658856e-06, 1.46615802e-06, 1.33682246e-06,\n",
       "       1.27957460e-06, 1.07718066e-06, 9.98022358e-07, 9.68251415e-07,\n",
       "       9.57905326e-07, 9.19400987e-07, 8.45930243e-07, 7.94271484e-07,\n",
       "       7.54658274e-07, 7.44790552e-07, 7.20438788e-07, 6.95982213e-07,\n",
       "       6.74934359e-07, 6.59264476e-07, 6.50888084e-07, 6.25582753e-07,\n",
       "       6.10743920e-07, 5.90678072e-07, 5.73134299e-07, 5.59405831e-07,\n",
       "       5.51150575e-07, 5.40057633e-07, 5.20446256e-07, 5.04597269e-07,\n",
       "       4.87954010e-07, 4.76684985e-07, 4.71534318e-07, 4.63970861e-07,\n",
       "       4.38285746e-07, 4.16822315e-07, 3.99990982e-07, 3.95251715e-07,\n",
       "       3.89967669e-07, 3.82741298e-07, 3.75220497e-07, 3.67580918e-07,\n",
       "       3.56091579e-07, 3.47480286e-07, 3.42618219e-07, 3.42610019e-07,\n",
       "       3.30604562e-07, 3.26406772e-07, 3.20276480e-07, 3.06736254e-07,\n",
       "       2.97923602e-07, 2.93015723e-07, 2.85970480e-07, 2.76959634e-07,\n",
       "       2.68104924e-07, 2.64372514e-07, 2.58769842e-07, 2.53241597e-07,\n",
       "       2.53223936e-07, 2.49628719e-07, 2.45792638e-07, 2.45707335e-07,\n",
       "       2.40951568e-07, 2.36566801e-07, 2.30896537e-07, 2.30892295e-07,\n",
       "       2.30889871e-07, 2.30885957e-07, 2.26742891e-07, 2.23448883e-07,\n",
       "       2.23447035e-07, 2.23439483e-07, 2.19663069e-07, 2.16001219e-07,\n",
       "       2.16000859e-07, 2.15998211e-07, 2.15996978e-07, 2.15995929e-07,\n",
       "       2.15979867e-07, 2.09163783e-07, 2.02775823e-07, 2.01098199e-07,\n",
       "       1.94860441e-07, 1.89790492e-07, 1.86207356e-07, 1.86205351e-07,\n",
       "       1.86196977e-07, 1.79897678e-07, 1.75267874e-07, 1.71310697e-07,\n",
       "       1.71305824e-07, 1.71303737e-07, 1.67462478e-07, 1.63862863e-07,\n",
       "       1.63862532e-07, 1.63860469e-07, 1.63858676e-07, 1.63857267e-07,\n",
       "       1.63857164e-07, 1.58171815e-07, 1.56413481e-07, 1.56410913e-07,\n",
       "       1.56410211e-07, 1.50704835e-07, 1.48965558e-07, 1.48965319e-07,\n",
       "       1.48959351e-07, 1.42463851e-07, 1.41512222e-07, 1.35211289e-07,\n",
       "       1.34064397e-07, 1.28641246e-07, 1.26620115e-07, 1.26619194e-07,\n",
       "       1.26529159e-07, 1.20225344e-07, 1.19170003e-07, 1.13592850e-07,\n",
       "       1.11723423e-07, 1.11721851e-07, 1.07657805e-07, 1.04276435e-07,\n",
       "       1.04275964e-07, 1.04275338e-07, 1.04274754e-07, 1.04273034e-07,\n",
       "       1.04271979e-07, 1.04267122e-07, 1.04266543e-07, 9.86215397e-08,\n",
       "       9.68281310e-08, 9.68280733e-08, 9.68274111e-08, 9.68261044e-08,\n",
       "       9.68248163e-08, 9.68229630e-08, 9.01822837e-08, 8.93774534e-08,\n",
       "       8.93753397e-08, 8.34459092e-08, 8.19308868e-08, 8.19304574e-08,\n",
       "       8.19298303e-08, 8.19292872e-08, 8.19169571e-08, 7.53686097e-08,\n",
       "       7.44816457e-08, 7.44791372e-08, 7.43903163e-08, 6.79021000e-08,\n",
       "       6.70341310e-08, 6.70330907e-08, 6.70325489e-08, 6.06907254e-08,\n",
       "       5.95865186e-08, 5.95863903e-08, 5.95858414e-08, 5.95854838e-08,\n",
       "       5.95849659e-08, 5.26219570e-08, 5.21376438e-08, 5.21365906e-08,\n",
       "       4.51453399e-08, 4.46894504e-08, 4.46888105e-08, 3.79871192e-08,\n",
       "       3.72415398e-08, 3.72414852e-08, 3.72413734e-08, 3.72403576e-08,\n",
       "       3.72401695e-08, 2.99931770e-08, 2.97931632e-08, 2.26592117e-08,\n",
       "       2.23449135e-08, 2.23447407e-08, 2.23443392e-08, 3.07797804e-29,\n",
       "       4.13256137e-31, 1.35450131e-31])"
      ]
     },
     "execution_count": 152,
     "metadata": {},
     "output_type": "execute_result"
    }
   ],
   "source": [
    "pca.explained_variance_ratio_"
   ]
  },
  {
   "cell_type": "code",
   "execution_count": 158,
   "metadata": {},
   "outputs": [
    {
     "data": {
      "image/png": "[encoded data removed]",
      "text/plain": [
       "<Figure size 864x648 with 1 Axes>"
      ]
     },
     "metadata": {
      "needs_background": "light"
     },
     "output_type": "display_data"
    }
   ],
   "source": [
    "plt.figure(figsize=(12,9))\n",
    "plt.plot(range(1,50),pca.explained_variance_ratio_.cumsum()[:49],marker='o',linestyle='--')\n",
    "plt.title('Explained variance by components')\n",
    "plt.xlabel('No.of components')\n",
    "plt.ylabel('Explained variance')\n",
    "plt.show()"
   ]
  },
  {
   "cell_type": "markdown",
   "metadata": {},
   "source": [
    "From the above graph we can see that the 10 components are explaining more than 98% variance itself"
   ]
  },
  {
   "cell_type": "code",
   "execution_count": 159,
   "metadata": {},
   "outputs": [
    {
     "data": {
      "text/plain": [
       "PCA(copy=True, iterated_power='auto', n_components=10, random_state=None,\n",
       "  svd_solver='auto', tol=0.0, whiten=False)"
      ]
     },
     "execution_count": 159,
     "metadata": {},
     "output_type": "execute_result"
    }
   ],
   "source": [
    "pca=PCA(n_components=10)\n",
    "pca.fit(df_seg)"
   ]
  },
  {
   "cell_type": "code",
   "execution_count": 160,
   "metadata": {},
   "outputs": [],
   "source": [
    "scores_pca=pca.transform(df_seg)"
   ]
  },
  {
   "cell_type": "code",
   "execution_count": 162,
   "metadata": {},
   "outputs": [
    {
     "data": {
      "text/plain": [
       "array([[ 3.07924934e+00, -9.65742459e-01,  8.40539686e-01, ...,\n",
       "         7.06646168e-01,  3.95826494e-01,  7.82931891e-03],\n",
       "       [ 7.93175181e-02, -9.83262193e-01,  8.53291430e-01, ...,\n",
       "        -2.34652219e-03, -9.89962221e-02, -5.87799257e-02],\n",
       "       [ 7.68214240e-02,  4.37602123e-01,  8.39268432e-02, ...,\n",
       "         6.78797567e-01,  3.46492084e-01,  2.94501037e-02],\n",
       "       ...,\n",
       "       [ 5.07686694e+00,  3.86188080e-01,  6.60299973e-01, ...,\n",
       "        -7.11075126e-02,  1.01004688e-01,  7.92880964e-03],\n",
       "       [ 5.07701841e+00,  3.97111786e-01,  8.15172939e-03, ...,\n",
       "         3.78636281e-01, -5.27255987e-01, -6.20991725e-01],\n",
       "       [ 4.07736262e+00,  2.01415376e-01, -7.59616724e-01, ...,\n",
       "        -4.35712057e-02, -8.14134376e-02, -1.57825945e-02]])"
      ]
     },
     "execution_count": 162,
     "metadata": {},
     "output_type": "execute_result"
    }
   ],
   "source": [
    "scores_pca"
   ]
  },
  {
   "cell_type": "code",
   "execution_count": 163,
   "metadata": {},
   "outputs": [
    {
     "name": "stdout",
     "output_type": "stream",
     "text": [
      "134049835.27223751\n",
      "28283517.23694611\n",
      "14868999.474239191\n",
      "8548741.72116922\n",
      "5472147.923170721\n",
      "3942546.1647670097\n",
      "2881208.2835925072\n",
      "2260121.1429546513\n",
      "1886633.3945844688\n",
      "1612138.7509535719\n"
     ]
    }
   ],
   "source": [
    "pca_wcss=[]\n",
    "for i in range(1,11):\n",
    "    kmeans_pca=KMeans(n_clusters=i,init='k-means++',random_state=42)\n",
    "    kmeans_pca.fit(scores_pca)\n",
    "    pca_wcss.append(kmeans_pca.inertia_)\n",
    "    print(kmeans_pca.inertia_)"
   ]
  },
  {
   "cell_type": "code",
   "execution_count": 164,
   "metadata": {},
   "outputs": [
    {
     "data": {
      "image/png": "[encoded data removed]",
      "text/plain": [
       "<Figure size 864x648 with 1 Axes>"
      ]
     },
     "metadata": {
      "needs_background": "light"
     },
     "output_type": "display_data"
    }
   ],
   "source": [
    "plt.figure(figsize=(12,9))\n",
    "plt.plot(range(1,11),pca_wcss,marker='o',linestyle='--')\n",
    "plt.xlabel('components')\n",
    "plt.ylabel('wcss')\n",
    "plt.show()"
   ]
  },
  {
   "cell_type": "markdown",
   "metadata": {},
   "source": [
    "From the above graph we can conclude to take optimal no.of clusters to be 3 which supports the Kmeans without PCA and as well as without LabelEncoding"
   ]
  },
  {
   "cell_type": "code",
   "execution_count": 165,
   "metadata": {},
   "outputs": [],
   "source": [
    "kmeans_pca=KMeans(n_clusters=3,init='k-means++',random_state=42)"
   ]
  },
  {
   "cell_type": "code",
   "execution_count": 166,
   "metadata": {
    "scrolled": true
   },
   "outputs": [
    {
     "data": {
      "text/plain": [
       "KMeans(algorithm='auto', copy_x=True, init='k-means++', max_iter=300,\n",
       "    n_clusters=3, n_init=10, n_jobs=None, precompute_distances='auto',\n",
       "    random_state=42, tol=0.0001, verbose=0)"
      ]
     },
     "execution_count": 166,
     "metadata": {},
     "output_type": "execute_result"
    }
   ],
   "source": [
    "kmeans_pca.fit(scores_pca)"
   ]
  },
  {
   "cell_type": "code",
   "execution_count": 167,
   "metadata": {},
   "outputs": [
    {
     "data": {
      "text/html": [
       "<div>\n",
       "<style scoped>\n",
       "    .dataframe tbody tr th:only-of-type {\n",
       "        vertical-align: middle;\n",
       "    }\n",
       "\n",
       "    .dataframe tbody tr th {\n",
       "        vertical-align: top;\n",
       "    }\n",
       "\n",
       "    .dataframe thead th {\n",
       "        text-align: right;\n",
       "    }\n",
       "</style>\n",
       "<table border=\"1\" class=\"dataframe\">\n",
       "  <thead>\n",
       "    <tr style=\"text-align: right;\">\n",
       "      <th></th>\n",
       "      <th>gender</th>\n",
       "      <th>age</th>\n",
       "      <th>country</th>\n",
       "      <th>joined year</th>\n",
       "    </tr>\n",
       "    <tr>\n",
       "      <th>id</th>\n",
       "      <th></th>\n",
       "      <th></th>\n",
       "      <th></th>\n",
       "      <th></th>\n",
       "    </tr>\n",
       "  </thead>\n",
       "  <tbody>\n",
       "    <tr>\n",
       "      <th>00000c289a1829a808ac09c00daf10bc3c4e223b</th>\n",
       "      <td>0</td>\n",
       "      <td>22.0</td>\n",
       "      <td>79</td>\n",
       "      <td>5</td>\n",
       "    </tr>\n",
       "    <tr>\n",
       "      <th>00001411dc427966b17297bf4d69e7e193135d89</th>\n",
       "      <td>0</td>\n",
       "      <td>25.0</td>\n",
       "      <td>37</td>\n",
       "      <td>5</td>\n",
       "    </tr>\n",
       "    <tr>\n",
       "      <th>00004d2ac9316e22dc007ab2243d6fcb239e707d</th>\n",
       "      <td>1</td>\n",
       "      <td>25.0</td>\n",
       "      <td>79</td>\n",
       "      <td>4</td>\n",
       "    </tr>\n",
       "    <tr>\n",
       "      <th>000063d3fe1cf2ba248b9e3c3f0334845a27a6bf</th>\n",
       "      <td>1</td>\n",
       "      <td>19.0</td>\n",
       "      <td>136</td>\n",
       "      <td>6</td>\n",
       "    </tr>\n",
       "    <tr>\n",
       "      <th>00007a47085b9aab8af55f52ec8846ac479ac4fe</th>\n",
       "      <td>1</td>\n",
       "      <td>28.0</td>\n",
       "      <td>225</td>\n",
       "      <td>4</td>\n",
       "    </tr>\n",
       "  </tbody>\n",
       "</table>\n",
       "</div>"
      ],
      "text/plain": [
       "                                          gender   age  country  joined year\n",
       "id                                                                          \n",
       "00000c289a1829a808ac09c00daf10bc3c4e223b       0  22.0       79            5\n",
       "00001411dc427966b17297bf4d69e7e193135d89       0  25.0       37            5\n",
       "00004d2ac9316e22dc007ab2243d6fcb239e707d       1  25.0       79            4\n",
       "000063d3fe1cf2ba248b9e3c3f0334845a27a6bf       1  19.0      136            6\n",
       "00007a47085b9aab8af55f52ec8846ac479ac4fe       1  28.0      225            4"
      ]
     },
     "execution_count": 167,
     "metadata": {},
     "output_type": "execute_result"
    }
   ],
   "source": [
    "df_users_en.head()"
   ]
  },
  {
   "cell_type": "code",
   "execution_count": 171,
   "metadata": {},
   "outputs": [],
   "source": [
    "df_segm_kmeans_pca=df_users.copy()\n",
    "df_segm_kmeans_pca['segment K-means']=kmeans_pca.labels_"
   ]
  },
  {
   "cell_type": "code",
   "execution_count": 172,
   "metadata": {},
   "outputs": [
    {
     "data": {
      "text/html": [
       "<div>\n",
       "<style scoped>\n",
       "    .dataframe tbody tr th:only-of-type {\n",
       "        vertical-align: middle;\n",
       "    }\n",
       "\n",
       "    .dataframe tbody tr th {\n",
       "        vertical-align: top;\n",
       "    }\n",
       "\n",
       "    .dataframe thead th {\n",
       "        text-align: right;\n",
       "    }\n",
       "</style>\n",
       "<table border=\"1\" class=\"dataframe\">\n",
       "  <thead>\n",
       "    <tr style=\"text-align: right;\">\n",
       "      <th></th>\n",
       "      <th>gender</th>\n",
       "      <th>age</th>\n",
       "      <th>country</th>\n",
       "      <th>joined year</th>\n",
       "      <th>segment K-means</th>\n",
       "    </tr>\n",
       "    <tr>\n",
       "      <th>id</th>\n",
       "      <th></th>\n",
       "      <th></th>\n",
       "      <th></th>\n",
       "      <th></th>\n",
       "      <th></th>\n",
       "    </tr>\n",
       "  </thead>\n",
       "  <tbody>\n",
       "    <tr>\n",
       "      <th>00000c289a1829a808ac09c00daf10bc3c4e223b</th>\n",
       "      <td>f</td>\n",
       "      <td>22.0</td>\n",
       "      <td>Germany</td>\n",
       "      <td>2007</td>\n",
       "      <td>0</td>\n",
       "    </tr>\n",
       "    <tr>\n",
       "      <th>00001411dc427966b17297bf4d69e7e193135d89</th>\n",
       "      <td>f</td>\n",
       "      <td>25.0</td>\n",
       "      <td>Canada</td>\n",
       "      <td>2007</td>\n",
       "      <td>0</td>\n",
       "    </tr>\n",
       "    <tr>\n",
       "      <th>00004d2ac9316e22dc007ab2243d6fcb239e707d</th>\n",
       "      <td>m</td>\n",
       "      <td>25.0</td>\n",
       "      <td>Germany</td>\n",
       "      <td>2006</td>\n",
       "      <td>0</td>\n",
       "    </tr>\n",
       "    <tr>\n",
       "      <th>000063d3fe1cf2ba248b9e3c3f0334845a27a6bf</th>\n",
       "      <td>m</td>\n",
       "      <td>19.0</td>\n",
       "      <td>Mexico</td>\n",
       "      <td>2008</td>\n",
       "      <td>0</td>\n",
       "    </tr>\n",
       "    <tr>\n",
       "      <th>00007a47085b9aab8af55f52ec8846ac479ac4fe</th>\n",
       "      <td>m</td>\n",
       "      <td>28.0</td>\n",
       "      <td>United States</td>\n",
       "      <td>2006</td>\n",
       "      <td>0</td>\n",
       "    </tr>\n",
       "  </tbody>\n",
       "</table>\n",
       "</div>"
      ],
      "text/plain": [
       "                                         gender   age        country  \\\n",
       "id                                                                     \n",
       "00000c289a1829a808ac09c00daf10bc3c4e223b      f  22.0        Germany   \n",
       "00001411dc427966b17297bf4d69e7e193135d89      f  25.0         Canada   \n",
       "00004d2ac9316e22dc007ab2243d6fcb239e707d      m  25.0        Germany   \n",
       "000063d3fe1cf2ba248b9e3c3f0334845a27a6bf      m  19.0         Mexico   \n",
       "00007a47085b9aab8af55f52ec8846ac479ac4fe      m  28.0  United States   \n",
       "\n",
       "                                         joined year  segment K-means  \n",
       "id                                                                     \n",
       "00000c289a1829a808ac09c00daf10bc3c4e223b        2007                0  \n",
       "00001411dc427966b17297bf4d69e7e193135d89        2007                0  \n",
       "00004d2ac9316e22dc007ab2243d6fcb239e707d        2006                0  \n",
       "000063d3fe1cf2ba248b9e3c3f0334845a27a6bf        2008                0  \n",
       "00007a47085b9aab8af55f52ec8846ac479ac4fe        2006                0  "
      ]
     },
     "execution_count": 172,
     "metadata": {},
     "output_type": "execute_result"
    }
   ],
   "source": [
    "df_segm_kmeans_pca.head()"
   ]
  },
  {
   "cell_type": "code",
   "execution_count": 175,
   "metadata": {},
   "outputs": [],
   "source": [
    "df_segm_kmeans_pca=pd.concat([df_segm_kmeans_pca.reset_index(drop=True),pd.DataFrame(scores_pca)],axis=1)"
   ]
  },
  {
   "cell_type": "code",
   "execution_count": 176,
   "metadata": {},
   "outputs": [],
   "source": [
    "df_segm_kmeans_pca.columns.values[-10:]=['component_'+str(i) for i in range(1,11)]"
   ]
  },
  {
   "cell_type": "code",
   "execution_count": 188,
   "metadata": {},
   "outputs": [],
   "source": [
    "df_segm_kmeans_pca['Labels']=df_segm_kmeans_pca['segment K-means'].map({\n",
    "    0:\"cluster_1\",\n",
    "    1:\"cluster_2\",\n",
    "    2:\"cluster_3\"            \n",
    "})"
   ]
  },
  {
   "cell_type": "code",
   "execution_count": 189,
   "metadata": {},
   "outputs": [
    {
     "data": {
      "text/html": [
       "<div>\n",
       "<style scoped>\n",
       "    .dataframe tbody tr th:only-of-type {\n",
       "        vertical-align: middle;\n",
       "    }\n",
       "\n",
       "    .dataframe tbody tr th {\n",
       "        vertical-align: top;\n",
       "    }\n",
       "\n",
       "    .dataframe thead th {\n",
       "        text-align: right;\n",
       "    }\n",
       "</style>\n",
       "<table border=\"1\" class=\"dataframe\">\n",
       "  <thead>\n",
       "    <tr style=\"text-align: right;\">\n",
       "      <th></th>\n",
       "      <th>gender</th>\n",
       "      <th>age</th>\n",
       "      <th>country</th>\n",
       "      <th>joined year</th>\n",
       "      <th>segment K-means</th>\n",
       "      <th>component_1</th>\n",
       "      <th>component_2</th>\n",
       "      <th>component_3</th>\n",
       "      <th>component_4</th>\n",
       "      <th>component_5</th>\n",
       "      <th>component_6</th>\n",
       "      <th>component_7</th>\n",
       "      <th>component_8</th>\n",
       "      <th>component_9</th>\n",
       "      <th>component_10</th>\n",
       "      <th>Labels</th>\n",
       "    </tr>\n",
       "  </thead>\n",
       "  <tbody>\n",
       "    <tr>\n",
       "      <th>0</th>\n",
       "      <td>f</td>\n",
       "      <td>22.0</td>\n",
       "      <td>Germany</td>\n",
       "      <td>2007</td>\n",
       "      <td>0</td>\n",
       "      <td>3.079249</td>\n",
       "      <td>-0.965742</td>\n",
       "      <td>0.840540</td>\n",
       "      <td>-0.434122</td>\n",
       "      <td>-0.271597</td>\n",
       "      <td>-0.097946</td>\n",
       "      <td>-0.395199</td>\n",
       "      <td>0.706646</td>\n",
       "      <td>0.395826</td>\n",
       "      <td>0.007829</td>\n",
       "      <td>cluster_1</td>\n",
       "    </tr>\n",
       "    <tr>\n",
       "      <th>1</th>\n",
       "      <td>f</td>\n",
       "      <td>25.0</td>\n",
       "      <td>Canada</td>\n",
       "      <td>2007</td>\n",
       "      <td>0</td>\n",
       "      <td>0.079318</td>\n",
       "      <td>-0.983262</td>\n",
       "      <td>0.853291</td>\n",
       "      <td>-0.389060</td>\n",
       "      <td>-0.142788</td>\n",
       "      <td>-0.104055</td>\n",
       "      <td>0.059069</td>\n",
       "      <td>-0.002347</td>\n",
       "      <td>-0.098996</td>\n",
       "      <td>-0.058780</td>\n",
       "      <td>cluster_1</td>\n",
       "    </tr>\n",
       "    <tr>\n",
       "      <th>2</th>\n",
       "      <td>m</td>\n",
       "      <td>25.0</td>\n",
       "      <td>Germany</td>\n",
       "      <td>2006</td>\n",
       "      <td>0</td>\n",
       "      <td>0.076821</td>\n",
       "      <td>0.437602</td>\n",
       "      <td>0.083927</td>\n",
       "      <td>0.725797</td>\n",
       "      <td>-0.504299</td>\n",
       "      <td>-0.281414</td>\n",
       "      <td>-0.455975</td>\n",
       "      <td>0.678798</td>\n",
       "      <td>0.346492</td>\n",
       "      <td>0.029450</td>\n",
       "      <td>cluster_1</td>\n",
       "    </tr>\n",
       "    <tr>\n",
       "      <th>3</th>\n",
       "      <td>m</td>\n",
       "      <td>19.0</td>\n",
       "      <td>Mexico</td>\n",
       "      <td>2008</td>\n",
       "      <td>0</td>\n",
       "      <td>6.077364</td>\n",
       "      <td>0.200957</td>\n",
       "      <td>-0.766265</td>\n",
       "      <td>-0.276504</td>\n",
       "      <td>-0.052819</td>\n",
       "      <td>-0.101826</td>\n",
       "      <td>0.002710</td>\n",
       "      <td>-0.052166</td>\n",
       "      <td>-0.080768</td>\n",
       "      <td>-0.017021</td>\n",
       "      <td>cluster_1</td>\n",
       "    </tr>\n",
       "    <tr>\n",
       "      <th>4</th>\n",
       "      <td>m</td>\n",
       "      <td>28.0</td>\n",
       "      <td>United States</td>\n",
       "      <td>2006</td>\n",
       "      <td>0</td>\n",
       "      <td>-2.923463</td>\n",
       "      <td>0.394624</td>\n",
       "      <td>0.137001</td>\n",
       "      <td>0.997569</td>\n",
       "      <td>0.572417</td>\n",
       "      <td>-0.371891</td>\n",
       "      <td>-0.118602</td>\n",
       "      <td>-0.063246</td>\n",
       "      <td>0.063210</td>\n",
       "      <td>0.007534</td>\n",
       "      <td>cluster_1</td>\n",
       "    </tr>\n",
       "  </tbody>\n",
       "</table>\n",
       "</div>"
      ],
      "text/plain": [
       "  gender   age        country joined year  segment K-means  component_1  \\\n",
       "0      f  22.0        Germany        2007                0     3.079249   \n",
       "1      f  25.0         Canada        2007                0     0.079318   \n",
       "2      m  25.0        Germany        2006                0     0.076821   \n",
       "3      m  19.0         Mexico        2008                0     6.077364   \n",
       "4      m  28.0  United States        2006                0    -2.923463   \n",
       "\n",
       "   component_2  component_3  component_4  component_5  component_6  \\\n",
       "0    -0.965742     0.840540    -0.434122    -0.271597    -0.097946   \n",
       "1    -0.983262     0.853291    -0.389060    -0.142788    -0.104055   \n",
       "2     0.437602     0.083927     0.725797    -0.504299    -0.281414   \n",
       "3     0.200957    -0.766265    -0.276504    -0.052819    -0.101826   \n",
       "4     0.394624     0.137001     0.997569     0.572417    -0.371891   \n",
       "\n",
       "   component_7  component_8  component_9  component_10     Labels  \n",
       "0    -0.395199     0.706646     0.395826      0.007829  cluster_1  \n",
       "1     0.059069    -0.002347    -0.098996     -0.058780  cluster_1  \n",
       "2    -0.455975     0.678798     0.346492      0.029450  cluster_1  \n",
       "3     0.002710    -0.052166    -0.080768     -0.017021  cluster_1  \n",
       "4    -0.118602    -0.063246     0.063210      0.007534  cluster_1  "
      ]
     },
     "execution_count": 189,
     "metadata": {},
     "output_type": "execute_result"
    }
   ],
   "source": [
    "df_segm_kmeans_pca.head()"
   ]
  },
  {
   "cell_type": "code",
   "execution_count": 190,
   "metadata": {},
   "outputs": [
    {
     "data": {
      "image/png": "[encoded data removed]",
      "text/plain": [
       "<Figure size 720x576 with 1 Axes>"
      ]
     },
     "metadata": {
      "needs_background": "light"
     },
     "output_type": "display_data"
    }
   ],
   "source": [
    "x_axis=df_segm_kmeans_pca['component_1']\n",
    "y_axis=df_segm_kmeans_pca['component_10']\n",
    "plt.figure(figsize=(10,8))\n",
    "sns.scatterplot(x_axis,y_axis,hue=df_segm_kmeans_pca['Labels'])\n",
    "plt.title('Segmentation K-means PCA')\n",
    "plt.show()"
   ]
  },
  {
   "cell_type": "code",
   "execution_count": 186,
   "metadata": {},
   "outputs": [],
   "source": [
    "import pickle\n",
    "\n",
    "pickle.dump(pca,open('pca.pickle','wb'))\n",
    "\n",
    "pickle.dump(kmeans_pca,open('kmeans_pca.pickle','wb'))"
   ]
  },
  {
   "cell_type": "code",
   "execution_count": 191,
   "metadata": {},
   "outputs": [],
   "source": [
    "df_segm_kmeans_pca.to_csv('user_segm_kmeans_pca.csv',index=False)"
   ]
  },
  {
   "cell_type": "code",
   "execution_count": null,
   "metadata": {},
   "outputs": [],
   "source": []
  }
 ],
 "metadata": {
  "kernelspec": {
   "display_name": "Python 3",
   "language": "python",
   "name": "python3"
  },
  "language_info": {
   "codemirror_mode": {
    "name": "ipython",
    "version": 3
   },
   "file_extension": ".py",
   "mimetype": "text/x-python",
   "name": "python",
   "nbconvert_exporter": "python",
   "pygments_lexer": "ipython3",
   "version": "3.6.7"
  }
 },
 "nbformat": 4,
 "nbformat_minor": 2
}
