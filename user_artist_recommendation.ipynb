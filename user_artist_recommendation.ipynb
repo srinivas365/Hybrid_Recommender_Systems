{
 "cells": [
  {
   "cell_type": "markdown",
   "metadata": {
    "colab_type": "text",
    "id": "xDbID0KFsUoC"
   },
   "source": [
    "# USER ARTIST RECOMMENDATION \n",
    "\n",
    "This notebook contains the following sections:\n",
    "\n",
    "1. Importing Necessary Libraries\n",
    "2. Loading the data\n",
    "3. Applying the different Algorithms on the dataset\n",
    "4. Visualization of the RMSE of algorithms\n",
    "5. saving the predictions & Trained algorithms\n"
   ]
  },
  {
   "cell_type": "code",
   "execution_count": 0,
   "metadata": {
    "colab": {
     "base_uri": "https://localhost:8080/",
     "height": 34
    },
    "colab_type": "code",
    "id": "0dp7rRimCTih",
    "outputId": "5da1a2c0-f4da-4012-dade-8f8d8c1512ca"
   },
   "outputs": [
    {
     "name": "stdout",
     "output_type": "stream",
     "text": [
      "Drive already mounted at /content/drive; to attempt to forcibly remount, call drive.mount(\"/content/drive\", force_remount=True).\n"
     ]
    }
   ],
   "source": [
    "from google.colab import drive\n",
    "drive.mount('/content/drive')"
   ]
  },
  {
   "cell_type": "code",
   "execution_count": 0,
   "metadata": {
    "colab": {},
    "colab_type": "code",
    "id": "cAWJk_DfDLLD"
   },
   "outputs": [],
   "source": [
    "root_path = 'drive/My Drive/datasets/'"
   ]
  },
  {
   "cell_type": "markdown",
   "metadata": {
    "colab_type": "text",
    "id": "NrhKrNRDtDJR"
   },
   "source": [
    "## Importing the Libraries"
   ]
  },
  {
   "cell_type": "code",
   "execution_count": 0,
   "metadata": {
    "colab": {},
    "colab_type": "code",
    "id": "4GRwkqe-C9ZZ"
   },
   "outputs": [],
   "source": [
    "import numpy as np\n",
    "import pandas as pd\n",
    "import math"
   ]
  },
  {
   "cell_type": "code",
   "execution_count": 0,
   "metadata": {
    "colab": {
     "base_uri": "https://localhost:8080/",
     "height": 71
    },
    "colab_type": "code",
    "id": "c5nB93LmuF2U",
    "outputId": "164551ad-b437-4062-b89b-8bf454b0c4b1"
   },
   "outputs": [
    {
     "name": "stderr",
     "output_type": "stream",
     "text": [
      "/usr/local/lib/python3.6/dist-packages/statsmodels/tools/_testing.py:19: FutureWarning: pandas.util.testing is deprecated. Use the functions in the public API at pandas.testing instead.\n",
      "  import pandas.util.testing as tm\n"
     ]
    }
   ],
   "source": [
    "import matplotlib.pyplot as plt\n",
    "import seaborn as sns\n",
    "sns.set()"
   ]
  },
  {
   "cell_type": "code",
   "execution_count": 0,
   "metadata": {
    "colab": {
     "base_uri": "https://localhost:8080/",
     "height": 119
    },
    "colab_type": "code",
    "id": "AZsjQyi_LNfG",
    "outputId": "4fd45cf4-d1ac-48fe-8fa7-d5f30438d186"
   },
   "outputs": [
    {
     "name": "stdout",
     "output_type": "stream",
     "text": [
      "Requirement already satisfied: surprise in /usr/local/lib/python3.6/dist-packages (0.1)\n",
      "Requirement already satisfied: scikit-surprise in /usr/local/lib/python3.6/dist-packages (from surprise) (1.1.0)\n",
      "Requirement already satisfied: six>=1.10.0 in /usr/local/lib/python3.6/dist-packages (from scikit-surprise->surprise) (1.12.0)\n",
      "Requirement already satisfied: joblib>=0.11 in /usr/local/lib/python3.6/dist-packages (from scikit-surprise->surprise) (0.14.1)\n",
      "Requirement already satisfied: scipy>=1.0.0 in /usr/local/lib/python3.6/dist-packages (from scikit-surprise->surprise) (1.4.1)\n",
      "Requirement already satisfied: numpy>=1.11.2 in /usr/local/lib/python3.6/dist-packages (from scikit-surprise->surprise) (1.18.2)\n"
     ]
    }
   ],
   "source": [
    "!pip install surprise"
   ]
  },
  {
   "cell_type": "code",
   "execution_count": 0,
   "metadata": {
    "colab": {},
    "colab_type": "code",
    "id": "scObM5l6H-yD"
   },
   "outputs": [],
   "source": [
    "# for the data loading & model building\n",
    "from surprise import Reader\n",
    "from surprise import Dataset\n",
    "from surprise.model_selection import cross_validate\n",
    "\n",
    "# built-in in surprise library\n",
    "from surprise import NormalPredictor\n",
    "from surprise import KNNBasic\n",
    "from surprise import KNNWithMeans\n",
    "from surprise import KNNWithZScore\n",
    "from surprise import KNNBaseline\n",
    "from surprise import SVD\n",
    "from surprise import BaselineOnly\n",
    "from surprise import CoClustering\n",
    "\n",
    "# for the metrics\n",
    "from surprise.accuracy import rmse\n",
    "from surprise import accuracy\n",
    "from surprise.model_selection import train_test_split\n",
    "\n",
    "from surprise import dump"
   ]
  },
  {
   "cell_type": "code",
   "execution_count": 0,
   "metadata": {
    "colab": {},
    "colab_type": "code",
    "id": "XD5Qs2RJHFvv"
   },
   "outputs": [],
   "source": [
    "df=pd.read_csv(root_path+'processed_user_song_norm_rating.csv')"
   ]
  },
  {
   "cell_type": "code",
   "execution_count": 0,
   "metadata": {
    "colab": {
     "base_uri": "https://localhost:8080/",
     "height": 204
    },
    "colab_type": "code",
    "id": "YJL6iHafK72e",
    "outputId": "c1718427-0618-4c16-bc81-cd66a2d8ec0c"
   },
   "outputs": [
    {
     "data": {
      "text/html": [
       "<div>\n",
       "<style scoped>\n",
       "    .dataframe tbody tr th:only-of-type {\n",
       "        vertical-align: middle;\n",
       "    }\n",
       "\n",
       "    .dataframe tbody tr th {\n",
       "        vertical-align: top;\n",
       "    }\n",
       "\n",
       "    .dataframe thead th {\n",
       "        text-align: right;\n",
       "    }\n",
       "</style>\n",
       "<table border=\"1\" class=\"dataframe\">\n",
       "  <thead>\n",
       "    <tr style=\"text-align: right;\">\n",
       "      <th></th>\n",
       "      <th>Unnamed: 0</th>\n",
       "      <th>Unnamed: 0.1</th>\n",
       "      <th>user_id</th>\n",
       "      <th>artist_mbid</th>\n",
       "      <th>norm_plays</th>\n",
       "    </tr>\n",
       "  </thead>\n",
       "  <tbody>\n",
       "    <tr>\n",
       "      <th>0</th>\n",
       "      <td>0</td>\n",
       "      <td>0</td>\n",
       "      <td>00029d80b8af94f2d5e3349ceb28b7304f80c1c4</td>\n",
       "      <td>b7ffd2af-418f-4be2-bdd1-22f8b48613da</td>\n",
       "      <td>1.000000</td>\n",
       "    </tr>\n",
       "    <tr>\n",
       "      <th>1</th>\n",
       "      <td>1</td>\n",
       "      <td>1</td>\n",
       "      <td>00029d80b8af94f2d5e3349ceb28b7304f80c1c4</td>\n",
       "      <td>8ca01f46-53ac-4af2-8516-55a909c0905e</td>\n",
       "      <td>0.145875</td>\n",
       "    </tr>\n",
       "    <tr>\n",
       "      <th>2</th>\n",
       "      <td>2</td>\n",
       "      <td>2</td>\n",
       "      <td>00029d80b8af94f2d5e3349ceb28b7304f80c1c4</td>\n",
       "      <td>e795e03d-b5d5-4a5f-834d-162cfb308a2c</td>\n",
       "      <td>0.139710</td>\n",
       "    </tr>\n",
       "    <tr>\n",
       "      <th>3</th>\n",
       "      <td>3</td>\n",
       "      <td>3</td>\n",
       "      <td>00029d80b8af94f2d5e3349ceb28b7304f80c1c4</td>\n",
       "      <td>69ee3720-a7cb-4402-b48d-a02c366f2bcf</td>\n",
       "      <td>0.138350</td>\n",
       "    </tr>\n",
       "    <tr>\n",
       "      <th>4</th>\n",
       "      <td>4</td>\n",
       "      <td>4</td>\n",
       "      <td>00029d80b8af94f2d5e3349ceb28b7304f80c1c4</td>\n",
       "      <td>90cc2464-234e-4da0-b39b-576f36e633bc</td>\n",
       "      <td>0.088577</td>\n",
       "    </tr>\n",
       "  </tbody>\n",
       "</table>\n",
       "</div>"
      ],
      "text/plain": [
       "   Unnamed: 0  Unnamed: 0.1  ...                           artist_mbid norm_plays\n",
       "0           0             0  ...  b7ffd2af-418f-4be2-bdd1-22f8b48613da   1.000000\n",
       "1           1             1  ...  8ca01f46-53ac-4af2-8516-55a909c0905e   0.145875\n",
       "2           2             2  ...  e795e03d-b5d5-4a5f-834d-162cfb308a2c   0.139710\n",
       "3           3             3  ...  69ee3720-a7cb-4402-b48d-a02c366f2bcf   0.138350\n",
       "4           4             4  ...  90cc2464-234e-4da0-b39b-576f36e633bc   0.088577\n",
       "\n",
       "[5 rows x 5 columns]"
      ]
     },
     "execution_count": 6,
     "metadata": {
      "tags": []
     },
     "output_type": "execute_result"
    }
   ],
   "source": [
    "df.head()"
   ]
  },
  {
   "cell_type": "code",
   "execution_count": 0,
   "metadata": {
    "colab": {},
    "colab_type": "code",
    "id": "rYxr6AB9K9uQ"
   },
   "outputs": [],
   "source": [
    "df_matrix=df.copy()"
   ]
  },
  {
   "cell_type": "code",
   "execution_count": 0,
   "metadata": {
    "colab": {},
    "colab_type": "code",
    "id": "Chu2i0VpGlQG"
   },
   "outputs": [],
   "source": [
    "df_matrix['rating']=df_matrix.norm_plays.apply(lambda x:math.ceil(x*5))"
   ]
  },
  {
   "cell_type": "code",
   "execution_count": 0,
   "metadata": {
    "colab": {
     "base_uri": "https://localhost:8080/",
     "height": 204
    },
    "colab_type": "code",
    "id": "wks-6OBOHASe",
    "outputId": "560a508c-fb8e-4fb7-f22a-7f127c552921"
   },
   "outputs": [
    {
     "data": {
      "text/html": [
       "<div>\n",
       "<style scoped>\n",
       "    .dataframe tbody tr th:only-of-type {\n",
       "        vertical-align: middle;\n",
       "    }\n",
       "\n",
       "    .dataframe tbody tr th {\n",
       "        vertical-align: top;\n",
       "    }\n",
       "\n",
       "    .dataframe thead th {\n",
       "        text-align: right;\n",
       "    }\n",
       "</style>\n",
       "<table border=\"1\" class=\"dataframe\">\n",
       "  <thead>\n",
       "    <tr style=\"text-align: right;\">\n",
       "      <th></th>\n",
       "      <th>Unnamed: 0</th>\n",
       "      <th>Unnamed: 0.1</th>\n",
       "      <th>user_id</th>\n",
       "      <th>artist_mbid</th>\n",
       "      <th>norm_plays</th>\n",
       "      <th>rating</th>\n",
       "    </tr>\n",
       "  </thead>\n",
       "  <tbody>\n",
       "    <tr>\n",
       "      <th>0</th>\n",
       "      <td>0</td>\n",
       "      <td>0</td>\n",
       "      <td>00029d80b8af94f2d5e3349ceb28b7304f80c1c4</td>\n",
       "      <td>b7ffd2af-418f-4be2-bdd1-22f8b48613da</td>\n",
       "      <td>1.000000</td>\n",
       "      <td>5</td>\n",
       "    </tr>\n",
       "    <tr>\n",
       "      <th>1</th>\n",
       "      <td>1</td>\n",
       "      <td>1</td>\n",
       "      <td>00029d80b8af94f2d5e3349ceb28b7304f80c1c4</td>\n",
       "      <td>8ca01f46-53ac-4af2-8516-55a909c0905e</td>\n",
       "      <td>0.145875</td>\n",
       "      <td>1</td>\n",
       "    </tr>\n",
       "    <tr>\n",
       "      <th>2</th>\n",
       "      <td>2</td>\n",
       "      <td>2</td>\n",
       "      <td>00029d80b8af94f2d5e3349ceb28b7304f80c1c4</td>\n",
       "      <td>e795e03d-b5d5-4a5f-834d-162cfb308a2c</td>\n",
       "      <td>0.139710</td>\n",
       "      <td>1</td>\n",
       "    </tr>\n",
       "    <tr>\n",
       "      <th>3</th>\n",
       "      <td>3</td>\n",
       "      <td>3</td>\n",
       "      <td>00029d80b8af94f2d5e3349ceb28b7304f80c1c4</td>\n",
       "      <td>69ee3720-a7cb-4402-b48d-a02c366f2bcf</td>\n",
       "      <td>0.138350</td>\n",
       "      <td>1</td>\n",
       "    </tr>\n",
       "    <tr>\n",
       "      <th>4</th>\n",
       "      <td>4</td>\n",
       "      <td>4</td>\n",
       "      <td>00029d80b8af94f2d5e3349ceb28b7304f80c1c4</td>\n",
       "      <td>90cc2464-234e-4da0-b39b-576f36e633bc</td>\n",
       "      <td>0.088577</td>\n",
       "      <td>1</td>\n",
       "    </tr>\n",
       "  </tbody>\n",
       "</table>\n",
       "</div>"
      ],
      "text/plain": [
       "   Unnamed: 0  Unnamed: 0.1  ... norm_plays rating\n",
       "0           0             0  ...   1.000000      5\n",
       "1           1             1  ...   0.145875      1\n",
       "2           2             2  ...   0.139710      1\n",
       "3           3             3  ...   0.138350      1\n",
       "4           4             4  ...   0.088577      1\n",
       "\n",
       "[5 rows x 6 columns]"
      ]
     },
     "execution_count": 9,
     "metadata": {
      "tags": []
     },
     "output_type": "execute_result"
    }
   ],
   "source": [
    "df_matrix.head()"
   ]
  },
  {
   "cell_type": "code",
   "execution_count": 0,
   "metadata": {
    "colab": {
     "base_uri": "https://localhost:8080/",
     "height": 136
    },
    "colab_type": "code",
    "id": "bSomtK0CHNr4",
    "outputId": "95119bf3-923c-4511-da07-9bf66f95e74d"
   },
   "outputs": [
    {
     "data": {
      "text/plain": [
       "1    298823\n",
       "2     60924\n",
       "3     23888\n",
       "0     23011\n",
       "5     14720\n",
       "4     11203\n",
       "Name: rating, dtype: int64"
      ]
     },
     "execution_count": 10,
     "metadata": {
      "tags": []
     },
     "output_type": "execute_result"
    }
   ],
   "source": [
    "df_matrix.rating.value_counts()"
   ]
  },
  {
   "cell_type": "markdown",
   "metadata": {
    "colab_type": "text",
    "id": "L-KKPhcaub8B"
   },
   "source": [
    "## Loading the dataset"
   ]
  },
  {
   "cell_type": "code",
   "execution_count": 0,
   "metadata": {
    "colab": {},
    "colab_type": "code",
    "id": "1w8i0DwWIMKY"
   },
   "outputs": [],
   "source": [
    "reader = Reader(rating_scale=(0, 5))\n",
    "data = Dataset.load_from_df(df_matrix[['user_id', 'artist_mbid', 'rating']], reader)"
   ]
  },
  {
   "cell_type": "markdown",
   "metadata": {
    "colab_type": "text",
    "id": "XYDlKOy3ujvv"
   },
   "source": [
    "## Applying different algorithms on the dataset\n",
    "\n",
    "Surprise is a Python scikit building and analyzing recommender systems that deal with explicit rating data.\n",
    "\n",
    "1. **NormalPredictor**\n",
    "Algorithm predicting a random rating based on the distribution of the training set, which is assumed to be normal.\n",
    "2. **BaselineOnly**\n",
    "Algorithm predicting the baseline estimate for given user and item.\n",
    "3. **KNNBasic**\n",
    "A basic collaborative filtering algorithm.\n",
    "4.**KNNWithMeans**\n",
    "A basic collaborative filtering algorithm, taking into account the mean ratings of each user.\n",
    "5. **KNNWithZScore**\tA basic collaborative filtering algorithm, taking into account\n",
    "6. **KNNBaseline**\n",
    "A basic collaborative filtering algorithm taking into account a baseline rating.\n",
    "7. **SVD**\n",
    "The famous SVD algorithm, as popularized by Simon Funk during the Netflix Prize.When baselines are not used, this is equivalent to Probabilistic Matrix Factorization.\n",
    "8. **CoClustering**\n",
    "A collaborative filtering algorithm based on co-clustering.\n",
    "\n",
    "\n"
   ]
  },
  {
   "cell_type": "code",
   "execution_count": 0,
   "metadata": {
    "colab": {},
    "colab_type": "code",
    "id": "U2p5DTCZIU5B"
   },
   "outputs": [],
   "source": [
    "benchmark = []"
   ]
  },
  {
   "cell_type": "code",
   "execution_count": 0,
   "metadata": {
    "colab": {
     "base_uri": "https://localhost:8080/",
     "height": 102
    },
    "colab_type": "code",
    "id": "-oNirLYzIdks",
    "outputId": "abceab3a-9795-47b3-8adb-5f998dca550c"
   },
   "outputs": [
    {
     "name": "stdout",
     "output_type": "stream",
     "text": [
      "test_rmse    0.999404\n",
      "fit_time      20.8388\n",
      "test_time     1.41231\n",
      "Algorithm         SVD\n",
      "dtype: object\n"
     ]
    }
   ],
   "source": [
    "algorithm=SVD()\n",
    "results = cross_validate(algorithm, data, measures=['RMSE'], cv=3, verbose=False,n_jobs=-1)\n",
    "# Get results & append algorithm name\n",
    "tmp = pd.DataFrame.from_dict(results).mean(axis=0)\n",
    "tmp = tmp.append(pd.Series([str(algorithm).split(' ')[0].split('.')[-1]], index=['Algorithm']))\n",
    "benchmark.append(tmp)\n",
    "print(tmp)"
   ]
  },
  {
   "cell_type": "code",
   "execution_count": 0,
   "metadata": {
    "colab": {
     "base_uri": "https://localhost:8080/",
     "height": 102
    },
    "colab_type": "code",
    "id": "pOEzZZz-N0e1",
    "outputId": "60b80055-43d9-4117-82da-0a3a49317b48"
   },
   "outputs": [
    {
     "data": {
      "text/plain": [
       "[test_rmse    0.999404\n",
       " fit_time      20.8388\n",
       " test_time     1.41231\n",
       " Algorithm         SVD\n",
       " dtype: object]"
      ]
     },
     "execution_count": 17,
     "metadata": {
      "tags": []
     },
     "output_type": "execute_result"
    }
   ],
   "source": [
    "benchmark"
   ]
  },
  {
   "cell_type": "code",
   "execution_count": 0,
   "metadata": {
    "colab": {
     "base_uri": "https://localhost:8080/",
     "height": 102
    },
    "colab_type": "code",
    "id": "Bv3a1ODGOw4r",
    "outputId": "a48925f9-0521-4cef-f6cb-d7f4dc0ca352"
   },
   "outputs": [
    {
     "name": "stdout",
     "output_type": "stream",
     "text": [
      "test_rmse         1.04965\n",
      "fit_time          5.97117\n",
      "test_time         1.03193\n",
      "Algorithm    CoClustering\n",
      "dtype: object\n"
     ]
    }
   ],
   "source": [
    "algorithm=CoClustering()\n",
    "results = cross_validate(algorithm, data, measures=['RMSE'], cv=3, verbose=False,n_jobs=-1)\n",
    "# Get results & append algorithm name\n",
    "tmp = pd.DataFrame.from_dict(results).mean(axis=0)\n",
    "tmp = tmp.append(pd.Series([str(algorithm).split(' ')[0].split('.')[-1]], index=['Algorithm']))\n",
    "benchmark.append(tmp)\n",
    "print(tmp)"
   ]
  },
  {
   "cell_type": "code",
   "execution_count": 0,
   "metadata": {
    "colab": {
     "base_uri": "https://localhost:8080/",
     "height": 102
    },
    "colab_type": "code",
    "id": "tqZiqb3LO48X",
    "outputId": "a916ec3d-271e-4565-d980-0a4917339420"
   },
   "outputs": [
    {
     "name": "stdout",
     "output_type": "stream",
     "text": [
      "test_rmse         0.98313\n",
      "fit_time         0.238169\n",
      "test_time        0.847652\n",
      "Algorithm    BaselineOnly\n",
      "dtype: object\n"
     ]
    }
   ],
   "source": [
    "algorithm=BaselineOnly()\n",
    "results = cross_validate(algorithm, data, measures=['RMSE'], cv=3, verbose=False,n_jobs=-1)\n",
    "# Get results & append algorithm name\n",
    "tmp = pd.DataFrame.from_dict(results).mean(axis=0)\n",
    "tmp = tmp.append(pd.Series([str(algorithm).split(' ')[0].split('.')[-1]], index=['Algorithm']))\n",
    "benchmark.append(tmp)\n",
    "print(tmp)"
   ]
  },
  {
   "cell_type": "code",
   "execution_count": 0,
   "metadata": {
    "colab": {
     "base_uri": "https://localhost:8080/",
     "height": 102
    },
    "colab_type": "code",
    "id": "ijo6IraOPBU9",
    "outputId": "41718e7f-fc00-48ef-aa1e-cc4ebc555de5"
   },
   "outputs": [
    {
     "name": "stdout",
     "output_type": "stream",
     "text": [
      "test_rmse            1.38196\n",
      "fit_time            0.275818\n",
      "test_time            1.07479\n",
      "Algorithm    NormalPredictor\n",
      "dtype: object\n"
     ]
    }
   ],
   "source": [
    "algorithm=NormalPredictor()\n",
    "results = cross_validate(algorithm, data, measures=['RMSE'], cv=3, verbose=False,n_jobs=-1)\n",
    "# Get results & append algorithm name\n",
    "tmp = pd.DataFrame.from_dict(results).mean(axis=0)\n",
    "tmp = tmp.append(pd.Series([str(algorithm).split(' ')[0].split('.')[-1]], index=['Algorithm']))\n",
    "benchmark.append(tmp)\n",
    "print(tmp)"
   ]
  },
  {
   "cell_type": "code",
   "execution_count": 0,
   "metadata": {
    "colab": {
     "base_uri": "https://localhost:8080/",
     "height": 102
    },
    "colab_type": "code",
    "id": "sOj8_DpBPt9M",
    "outputId": "57df75af-6c2f-41e1-f682-ebf8c94cfad8"
   },
   "outputs": [
    {
     "name": "stdout",
     "output_type": "stream",
     "text": [
      "test_rmse        1.03562\n",
      "fit_time         8.32349\n",
      "test_time        25.0677\n",
      "Algorithm    KNNBaseline\n",
      "dtype: object\n"
     ]
    }
   ],
   "source": [
    "#KNNBaseline(), KNNBasic(), KNNWithMeans(), KNNWithZScore()\n",
    "algorithm=KNNBaseline()\n",
    "results = cross_validate(algorithm, data, measures=['RMSE'], cv=3, verbose=False,n_jobs=-1)\n",
    "# Get results & append algorithm name\n",
    "tmp = pd.DataFrame.from_dict(results).mean(axis=0)\n",
    "tmp = tmp.append(pd.Series([str(algorithm).split(' ')[0].split('.')[-1]], index=['Algorithm']))\n",
    "benchmark.append(tmp)\n",
    "print(tmp)"
   ]
  },
  {
   "cell_type": "code",
   "execution_count": 0,
   "metadata": {
    "colab": {
     "base_uri": "https://localhost:8080/",
     "height": 102
    },
    "colab_type": "code",
    "id": "HuqmAPczQWFa",
    "outputId": "c63d594b-d214-4a5e-bad7-831872685748"
   },
   "outputs": [
    {
     "name": "stdout",
     "output_type": "stream",
     "text": [
      "test_rmse     1.05706\n",
      "fit_time      6.88764\n",
      "test_time     20.2464\n",
      "Algorithm    KNNBasic\n",
      "dtype: object\n"
     ]
    }
   ],
   "source": [
    "algorithm=KNNBasic()\n",
    "results = cross_validate(algorithm, data, measures=['RMSE'], cv=3, verbose=False,n_jobs=-1)\n",
    "# Get results & append algorithm name\n",
    "tmp = pd.DataFrame.from_dict(results).mean(axis=0)\n",
    "tmp = tmp.append(pd.Series([str(algorithm).split(' ')[0].split('.')[-1]], index=['Algorithm']))\n",
    "benchmark.append(tmp)\n",
    "print(tmp)"
   ]
  },
  {
   "cell_type": "code",
   "execution_count": 0,
   "metadata": {
    "colab": {
     "base_uri": "https://localhost:8080/",
     "height": 102
    },
    "colab_type": "code",
    "id": "hfwbofoBQrcu",
    "outputId": "8d565439-beb3-4fb6-b18f-053e492792a4"
   },
   "outputs": [
    {
     "name": "stdout",
     "output_type": "stream",
     "text": [
      "test_rmse          1.0416\n",
      "fit_time          6.46295\n",
      "test_time         20.9325\n",
      "Algorithm    KNNWithMeans\n",
      "dtype: object\n"
     ]
    }
   ],
   "source": [
    "algorithm=KNNWithMeans()\n",
    "results = cross_validate(algorithm, data, measures=['RMSE'], cv=3, verbose=False,n_jobs=-1)\n",
    "# Get results & append algorithm name\n",
    "tmp = pd.DataFrame.from_dict(results).mean(axis=0)\n",
    "tmp = tmp.append(pd.Series([str(algorithm).split(' ')[0].split('.')[-1]], index=['Algorithm']))\n",
    "benchmark.append(tmp)\n",
    "print(tmp)"
   ]
  },
  {
   "cell_type": "code",
   "execution_count": 0,
   "metadata": {
    "colab": {
     "base_uri": "https://localhost:8080/",
     "height": 102
    },
    "colab_type": "code",
    "id": "LiQWV93SQ-n1",
    "outputId": "cc7f586d-50af-46c8-a38f-4c735d296e7f"
   },
   "outputs": [
    {
     "name": "stdout",
     "output_type": "stream",
     "text": [
      "test_rmse          1.04342\n",
      "fit_time            6.5001\n",
      "test_time           24.731\n",
      "Algorithm    KNNWithZScore\n",
      "dtype: object\n"
     ]
    }
   ],
   "source": [
    "algorithm=KNNWithZScore()\n",
    "results = cross_validate(algorithm, data, measures=['RMSE'], cv=3, verbose=False,n_jobs=-1)\n",
    "# Get results & append algorithm name\n",
    "tmp = pd.DataFrame.from_dict(results).mean(axis=0)\n",
    "tmp = tmp.append(pd.Series([str(algorithm).split(' ')[0].split('.')[-1]], index=['Algorithm']))\n",
    "benchmark.append(tmp)\n",
    "print(tmp)"
   ]
  },
  {
   "cell_type": "code",
   "execution_count": 0,
   "metadata": {
    "colab": {
     "base_uri": "https://localhost:8080/",
     "height": 578
    },
    "colab_type": "code",
    "id": "PrG5PPRaRYXA",
    "outputId": "cd370730-03b3-4881-aec0-d3243fe6ef2e"
   },
   "outputs": [
    {
     "data": {
      "text/plain": [
       "[test_rmse    0.999404\n",
       " fit_time      20.8388\n",
       " test_time     1.41231\n",
       " Algorithm         SVD\n",
       " dtype: object, test_rmse         1.04965\n",
       " fit_time          5.97117\n",
       " test_time         1.03193\n",
       " Algorithm    CoClustering\n",
       " dtype: object, test_rmse         0.98313\n",
       " fit_time         0.238169\n",
       " test_time        0.847652\n",
       " Algorithm    BaselineOnly\n",
       " dtype: object, test_rmse            1.38196\n",
       " fit_time            0.275818\n",
       " test_time            1.07479\n",
       " Algorithm    NormalPredictor\n",
       " dtype: object, test_rmse        1.03562\n",
       " fit_time         8.32349\n",
       " test_time        25.0677\n",
       " Algorithm    KNNBaseline\n",
       " dtype: object, test_rmse     1.05706\n",
       " fit_time      6.88764\n",
       " test_time     20.2464\n",
       " Algorithm    KNNBasic\n",
       " dtype: object, test_rmse          1.0416\n",
       " fit_time          6.46295\n",
       " test_time         20.9325\n",
       " Algorithm    KNNWithMeans\n",
       " dtype: object, test_rmse          1.04342\n",
       " fit_time            6.5001\n",
       " test_time           24.731\n",
       " Algorithm    KNNWithZScore\n",
       " dtype: object]"
      ]
     },
     "execution_count": 29,
     "metadata": {
      "tags": []
     },
     "output_type": "execute_result"
    }
   ],
   "source": [
    "benchmark"
   ]
  },
  {
   "cell_type": "markdown",
   "metadata": {
    "colab_type": "text",
    "id": "YwL4o4R7wIpP"
   },
   "source": [
    "## Viewing the RMSE of cross-validated algorithms in a tabular form along with bar plot"
   ]
  },
  {
   "cell_type": "code",
   "execution_count": 0,
   "metadata": {
    "colab": {},
    "colab_type": "code",
    "id": "MMZ6sbvqUi_V"
   },
   "outputs": [],
   "source": [
    "results = pd.DataFrame(benchmark).set_index('Algorithm').sort_values('test_rmse')"
   ]
  },
  {
   "cell_type": "code",
   "execution_count": 0,
   "metadata": {
    "colab": {
     "base_uri": "https://localhost:8080/",
     "height": 328
    },
    "colab_type": "code",
    "id": "31Za5f3kVSqO",
    "outputId": "70a03fed-91b6-4f6c-9ea6-98d8da0edcd7"
   },
   "outputs": [
    {
     "data": {
      "text/html": [
       "<div>\n",
       "<style scoped>\n",
       "    .dataframe tbody tr th:only-of-type {\n",
       "        vertical-align: middle;\n",
       "    }\n",
       "\n",
       "    .dataframe tbody tr th {\n",
       "        vertical-align: top;\n",
       "    }\n",
       "\n",
       "    .dataframe thead th {\n",
       "        text-align: right;\n",
       "    }\n",
       "</style>\n",
       "<table border=\"1\" class=\"dataframe\">\n",
       "  <thead>\n",
       "    <tr style=\"text-align: right;\">\n",
       "      <th></th>\n",
       "      <th>test_rmse</th>\n",
       "      <th>fit_time</th>\n",
       "      <th>test_time</th>\n",
       "    </tr>\n",
       "    <tr>\n",
       "      <th>Algorithm</th>\n",
       "      <th></th>\n",
       "      <th></th>\n",
       "      <th></th>\n",
       "    </tr>\n",
       "  </thead>\n",
       "  <tbody>\n",
       "    <tr>\n",
       "      <th>BaselineOnly</th>\n",
       "      <td>0.983130</td>\n",
       "      <td>0.238169</td>\n",
       "      <td>0.847652</td>\n",
       "    </tr>\n",
       "    <tr>\n",
       "      <th>SVD</th>\n",
       "      <td>0.999404</td>\n",
       "      <td>20.838790</td>\n",
       "      <td>1.412307</td>\n",
       "    </tr>\n",
       "    <tr>\n",
       "      <th>KNNBaseline</th>\n",
       "      <td>1.035618</td>\n",
       "      <td>8.323485</td>\n",
       "      <td>25.067735</td>\n",
       "    </tr>\n",
       "    <tr>\n",
       "      <th>KNNWithMeans</th>\n",
       "      <td>1.041597</td>\n",
       "      <td>6.462947</td>\n",
       "      <td>20.932547</td>\n",
       "    </tr>\n",
       "    <tr>\n",
       "      <th>KNNWithZScore</th>\n",
       "      <td>1.043424</td>\n",
       "      <td>6.500100</td>\n",
       "      <td>24.730976</td>\n",
       "    </tr>\n",
       "    <tr>\n",
       "      <th>CoClustering</th>\n",
       "      <td>1.049652</td>\n",
       "      <td>5.971171</td>\n",
       "      <td>1.031934</td>\n",
       "    </tr>\n",
       "    <tr>\n",
       "      <th>KNNBasic</th>\n",
       "      <td>1.057062</td>\n",
       "      <td>6.887641</td>\n",
       "      <td>20.246378</td>\n",
       "    </tr>\n",
       "    <tr>\n",
       "      <th>NormalPredictor</th>\n",
       "      <td>1.381961</td>\n",
       "      <td>0.275818</td>\n",
       "      <td>1.074793</td>\n",
       "    </tr>\n",
       "  </tbody>\n",
       "</table>\n",
       "</div>"
      ],
      "text/plain": [
       "                 test_rmse   fit_time  test_time\n",
       "Algorithm                                       \n",
       "BaselineOnly      0.983130   0.238169   0.847652\n",
       "SVD               0.999404  20.838790   1.412307\n",
       "KNNBaseline       1.035618   8.323485  25.067735\n",
       "KNNWithMeans      1.041597   6.462947  20.932547\n",
       "KNNWithZScore     1.043424   6.500100  24.730976\n",
       "CoClustering      1.049652   5.971171   1.031934\n",
       "KNNBasic          1.057062   6.887641  20.246378\n",
       "NormalPredictor   1.381961   0.275818   1.074793"
      ]
     },
     "execution_count": 31,
     "metadata": {
      "tags": []
     },
     "output_type": "execute_result"
    }
   ],
   "source": [
    "results"
   ]
  },
  {
   "cell_type": "code",
   "execution_count": 0,
   "metadata": {
    "colab": {
     "base_uri": "https://localhost:8080/",
     "height": 381
    },
    "colab_type": "code",
    "id": "n3Hz6xXlVZiG",
    "outputId": "40b7aa50-deb1-4f82-f259-d2adbec41555"
   },
   "outputs": [
    {
     "data": {
      "text/plain": [
       "<matplotlib.axes._subplots.AxesSubplot at 0x7fe254eb3860>"
      ]
     },
     "execution_count": 37,
     "metadata": {
      "tags": []
     },
     "output_type": "execute_result"
    },
    {
     "data": {
      "image/png": "[encoded data removed]",
      "text/plain": [
       "<Figure size 432x288 with 1 Axes>"
      ]
     },
     "metadata": {
      "tags": []
     },
     "output_type": "display_data"
    }
   ],
   "source": [
    "results.test_rmse.plot(kind='bar')"
   ]
  },
  {
   "cell_type": "markdown",
   "metadata": {
    "colab_type": "text",
    "id": "trjisV2Q2Zpj"
   },
   "source": [
    "#### 1.Applying on the train & test dataset\n",
    "#### 2.saving the predictions and trained model"
   ]
  },
  {
   "cell_type": "code",
   "execution_count": 0,
   "metadata": {
    "colab": {
     "base_uri": "https://localhost:8080/",
     "height": 34
    },
    "colab_type": "code",
    "id": "W_64lLv7Voht",
    "outputId": "cdb1e71b-88a4-4b3d-a3df-2e95d4664758"
   },
   "outputs": [
    {
     "name": "stdout",
     "output_type": "stream",
     "text": [
      "RMSE: 0.9983\n"
     ]
    }
   ],
   "source": [
    "name='SVD'\n",
    "trainset, testset = train_test_split(data, test_size=0.25)\n",
    "algo = SVD()\n",
    "predictions = algo.fit(trainset).test(testset)\n",
    "accuracy.rmse(predictions)\n",
    "\n",
    "dump.dump('./predictions_'+name, predictions, algo)\n",
    "predictions, algo = dump.load('./predictions_'+name)"
   ]
  },
  {
   "cell_type": "code",
   "execution_count": 0,
   "metadata": {
    "colab": {
     "base_uri": "https://localhost:8080/",
     "height": 51
    },
    "colab_type": "code",
    "id": "--nP2MDCWtA6",
    "outputId": "89c2830f-978e-42f1-a123-7ce3467ffbb4"
   },
   "outputs": [
    {
     "name": "stdout",
     "output_type": "stream",
     "text": [
      "Estimating biases using als...\n",
      "RMSE: 0.9823\n"
     ]
    }
   ],
   "source": [
    "name='BaselineOnly'\n",
    "algo=BaselineOnly()\n",
    "predictions = algo.fit(trainset).test(testset)\n",
    "accuracy.rmse(predictions)\n",
    "\n",
    "dump.dump('./predictions_'+name, predictions, algo)\n",
    "predictions, algo = dump.load('./predictions_'+name)"
   ]
  },
  {
   "cell_type": "code",
   "execution_count": 0,
   "metadata": {
    "colab": {
     "base_uri": "https://localhost:8080/",
     "height": 85
    },
    "colab_type": "code",
    "id": "52sXD14BX4l3",
    "outputId": "18679e78-c73c-4524-d110-2a596f9490f8"
   },
   "outputs": [
    {
     "name": "stdout",
     "output_type": "stream",
     "text": [
      "Estimating biases using als...\n",
      "Computing the msd similarity matrix...\n",
      "Done computing similarity matrix.\n",
      "RMSE: 1.0298\n"
     ]
    }
   ],
   "source": [
    "name='KNNBaseline'\n",
    "algo=KNNBaseline()\n",
    "predictions = algo.fit(trainset).test(testset)\n",
    "accuracy.rmse(predictions)\n",
    "\n",
    "dump.dump('./predictions_'+name, predictions, algo)\n",
    "predictions, algo = dump.load('./predictions_'+name)"
   ]
  },
  {
   "cell_type": "code",
   "execution_count": 0,
   "metadata": {
    "colab": {
     "base_uri": "https://localhost:8080/",
     "height": 68
    },
    "colab_type": "code",
    "id": "43YbcoyooDTr",
    "outputId": "fa10d0b3-7543-47c2-946b-ae42fe8ab643"
   },
   "outputs": [
    {
     "name": "stdout",
     "output_type": "stream",
     "text": [
      "Computing the msd similarity matrix...\n",
      "Done computing similarity matrix.\n",
      "RMSE: 1.0354\n"
     ]
    }
   ],
   "source": [
    "name='KNNWithMeans'\n",
    "algo=KNNWithMeans()\n",
    "predictions = algo.fit(trainset).test(testset)\n",
    "accuracy.rmse(predictions)\n",
    "\n",
    "dump.dump('./predictions_'+name, predictions, algo)\n",
    "predictions, algo = dump.load('./predictions_'+name)"
   ]
  },
  {
   "cell_type": "code",
   "execution_count": 0,
   "metadata": {
    "colab": {
     "base_uri": "https://localhost:8080/",
     "height": 68
    },
    "colab_type": "code",
    "id": "S-QyODDqoUVE",
    "outputId": "23d3d2c7-b407-4f21-a665-24e4215a72b9"
   },
   "outputs": [
    {
     "name": "stdout",
     "output_type": "stream",
     "text": [
      "Computing the msd similarity matrix...\n",
      "Done computing similarity matrix.\n",
      "RMSE: 1.0383\n"
     ]
    }
   ],
   "source": [
    "name='KNNWithZScore'\n",
    "algo=KNNWithZScore()\n",
    "predictions = algo.fit(trainset).test(testset)\n",
    "accuracy.rmse(predictions)\n",
    "\n",
    "dump.dump('./predictions_'+name, predictions, algo)\n",
    "predictions, algo = dump.load('./predictions_'+name)"
   ]
  },
  {
   "cell_type": "code",
   "execution_count": 0,
   "metadata": {
    "colab": {
     "base_uri": "https://localhost:8080/",
     "height": 34
    },
    "colab_type": "code",
    "id": "3mFmP86Yob9U",
    "outputId": "24c123bd-159c-404a-b59c-9a5382778fde"
   },
   "outputs": [
    {
     "name": "stdout",
     "output_type": "stream",
     "text": [
      "RMSE: 1.0517\n"
     ]
    }
   ],
   "source": [
    "name='CoClustering'\n",
    "algo=CoClustering()\n",
    "predictions = algo.fit(trainset).test(testset)\n",
    "accuracy.rmse(predictions)\n",
    "\n",
    "dump.dump('./predictions_'+name, predictions, algo)\n",
    "predictions, algo = dump.load('./predictions_'+name)"
   ]
  },
  {
   "cell_type": "code",
   "execution_count": 0,
   "metadata": {
    "colab": {
     "base_uri": "https://localhost:8080/",
     "height": 68
    },
    "colab_type": "code",
    "id": "RrWj51Aur_eo",
    "outputId": "cb6b8c44-3e9f-4598-9ccf-b703cba5b2a1"
   },
   "outputs": [
    {
     "name": "stdout",
     "output_type": "stream",
     "text": [
      "Computing the msd similarity matrix...\n",
      "Done computing similarity matrix.\n",
      "RMSE: 1.0523\n"
     ]
    }
   ],
   "source": [
    "name='KNNBasic'\n",
    "algo=KNNBasic()\n",
    "predictions = algo.fit(trainset).test(testset)\n",
    "accuracy.rmse(predictions)\n",
    "\n",
    "dump.dump('./predictions_'+name, predictions, algo)\n",
    "predictions, algo = dump.load('./predictions_'+name)"
   ]
  },
  {
   "cell_type": "code",
   "execution_count": 0,
   "metadata": {
    "colab": {
     "base_uri": "https://localhost:8080/",
     "height": 34
    },
    "colab_type": "code",
    "id": "Bdqbj3pysIHW",
    "outputId": "9e96aec6-a917-4a82-eb5b-68a94cc2cf16"
   },
   "outputs": [
    {
     "name": "stdout",
     "output_type": "stream",
     "text": [
      "RMSE: 1.3870\n"
     ]
    }
   ],
   "source": [
    "name='NormalPredictor'\n",
    "algo=NormalPredictor()\n",
    "predictions = algo.fit(trainset).test(testset)\n",
    "accuracy.rmse(predictions)\n",
    "\n",
    "dump.dump('./predictions_'+name, predictions, algo)\n",
    "predictions, algo = dump.load('./predictions_'+name)"
   ]
  },
  {
   "cell_type": "code",
   "execution_count": 0,
   "metadata": {
    "colab": {
     "base_uri": "https://localhost:8080/",
     "height": 204
    },
    "colab_type": "code",
    "id": "tnSbP6j6vWDj",
    "outputId": "652c5802-3c91-442b-8b64-2f63c9a0c65f"
   },
   "outputs": [
    {
     "data": {
      "text/plain": [
       "['.config',\n",
       " 'predictions_CoClustering',\n",
       " 'drive',\n",
       " 'predictions_KNNBasic',\n",
       " 'predictions_KNNWithZScore',\n",
       " 'predictions_NormalPredictor',\n",
       " 'predictions_KNNBaseline',\n",
       " 'predictions_BaselineOnly',\n",
       " 'predictions_KNNWithMeans',\n",
       " 'predictions_SVD',\n",
       " 'sample_data']"
      ]
     },
     "execution_count": 64,
     "metadata": {
      "tags": []
     },
     "output_type": "execute_result"
    }
   ],
   "source": [
    "import os\n",
    "os.listdir()"
   ]
  },
  {
   "cell_type": "code",
   "execution_count": 0,
   "metadata": {
    "colab": {
     "base_uri": "https://localhost:8080/",
     "height": 34
    },
    "colab_type": "code",
    "id": "AG4DtNY4wRnI",
    "outputId": "92a5e396-6b69-4353-efa3-958f3c0517e2"
   },
   "outputs": [
    {
     "data": {
      "text/plain": [
       "'./drive/My Drive/datasets/predictions_SVD'"
      ]
     },
     "execution_count": 71,
     "metadata": {
      "tags": []
     },
     "output_type": "execute_result"
    }
   ],
   "source": [
    "import shutil\n",
    "shutil.move('./predictions_SVD', './drive/My Drive/datasets/predictions_SVD')\n",
    "shutil.move('./predictions_BaselineOnly', './drive/My Drive/datasets/predictions_BaselineOnly')\n",
    "shutil.move('./predictions_KNNBasic', './drive/My Drive/datasets/predictions_KNNBasic')\n",
    "shutil.move('./predictions_KNNWithMeans', './drive/My Drive/datasets/predictions_KNNWithMeans')\n",
    "shutil.move('./predictions_CoClustering', './drive/My Drive/datasets/predictions_CoClustering')\n",
    "shutil.move('./predictions_KNNWithZScore', './drive/My Drive/datasets/predictions_KNNWithZScore')\n",
    "shutil.move('./predictions_KNNBaseline', './drive/My Drive/datasets/predictions_KNNBaseline')\n",
    "shutil.move('./predictions_NormalPredictor', './drive/My Drive/datasets/predictions_NormalPredictor')"
   ]
  }
 ],
 "metadata": {
  "colab": {
   "collapsed_sections": [],
   "machine_shape": "hm",
   "name": "user_artist_recommendation.ipynb",
   "provenance": []
  },
  "kernelspec": {
   "display_name": "Python 3",
   "language": "python",
   "name": "python3"
  },
  "language_info": {
   "codemirror_mode": {
    "name": "ipython",
    "version": 3
   },
   "file_extension": ".py",
   "mimetype": "text/x-python",
   "name": "python",
   "nbconvert_exporter": "python",
   "pygments_lexer": "ipython3",
   "version": "3.6.7"
  }
 },
 "nbformat": 4,
 "nbformat_minor": 1
}
